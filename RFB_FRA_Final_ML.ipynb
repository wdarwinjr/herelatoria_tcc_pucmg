{
 "cells": [
  {
   "cell_type": "markdown",
   "metadata": {},
   "source": [
    "# 0. Package Imports and Loading Variables"
   ]
  },
  {
   "cell_type": "markdown",
   "metadata": {},
   "source": [
    "#### Python packages import"
   ]
  },
  {
   "cell_type": "code",
   "execution_count": 2,
   "metadata": {},
   "outputs": [],
   "source": [
    "import os\n",
    "import shutil\n",
    "import time\n",
    "import re\n",
    "import numpy as np\n",
    "import pandas as pd\n",
    "import pickle as pk\n",
    "\n",
    "from matplotlib import pyplot as plt\n",
    "import seaborn as sns\n",
    "from pprint import pprint\n",
    "\n",
    "import random\n",
    "from random import randint\n",
    "\n",
    "import sklearn.datasets\n",
    "import sklearn.metrics\n",
    "from sklearn import preprocessing\n",
    "from sklearn.model_selection import train_test_split\n",
    "from sklearn.preprocessing import LabelEncoder\n",
    "from sklearn.preprocessing import OneHotEncoder\n",
    "from sklearn.linear_model import LinearRegression\n",
    "from sklearn.linear_model import LogisticRegression\n",
    "from sklearn.naive_bayes import MultinomialNB, ComplementNB\n",
    "from sklearn.linear_model import SGDClassifier\n",
    "from sklearn.preprocessing import StandardScaler\n",
    "from sklearn.pipeline import make_pipeline\n",
    "from sklearn.neural_network import MLPClassifier\n",
    "from sklearn.ensemble import RandomForestClassifier\n",
    "\n",
    "import autosklearn.classification\n",
    "\n",
    "from imblearn.over_sampling import SMOTE\n",
    "from imblearn.over_sampling import RandomOverSampler\n",
    "\n",
    "final_dir = 'Final/'\n",
    "output_dir = '/mnt/e/Capacitação/PUC MG - Ciencia de Dados e Big Data/13. TCC/codigo/Dados/'\n",
    "\n",
    "proc_nr_csv_out_fpath = output_dir+'Proc_Nr_2010a2020.csv'\n",
    "proc_nr_csv_fpath = final_dir+'Proc_Nr_2010a2020.csv'\n",
    "proc_data_csv_fpath = final_dir+'Proc_Julgados_Prot_2010a2020.csv'\n",
    "docs_df_csv_fpath = final_dir+'Documentos_2010to2020.csv'\n",
    "pchv_df_csv_fpath = final_dir+'Palavras_Chave.csv'\n",
    "tab_he_csv_fpath = final_dir+'Tabela_HE.csv'\n",
    "\n",
    "raw_df_pkl_fpath = final_dir+'raw_df.pkl'\n",
    "docs_df_pkl_fpath = final_dir+'docs_df.pkl'\n",
    "pchv_df_pkl_fpath = final_dir+'pchv_df.pkl'\n",
    "res_df_pkl_fpath = final_dir+'res_df.pkl'\n",
    "out_df_pkl_fpath = final_dir+'out_df.pkl'\n",
    "high_df_pkl_fpath = final_dir+'high_df.pkl'\n",
    "prev_df_pkl_fpath = final_dir+'prev_df.pkl'\n",
    "admjud_df_pkl_fpath = final_dir+'admjud_df.pkl'\n",
    "decl_df_pkl_fpath = final_dir+'decl_df.pkl'\n",
    "conf_df_pkl_fpath = final_dir+'conf_df.pkl'\n",
    "vol_df_pkl_fpath = final_dir+'vol_df.pkl'\n",
    "prior_df_pkl_fpath = final_dir+'prior_df.pkl'\n",
    "mcf_df_pkl_fpath = final_dir+'mcf_df.pkl'\n",
    "jud_df_pkl_fpath = final_dir+'jud_df.pkl'\n",
    "arr_df_pkl_fpath = final_dir+'arr_df.pkl'\n",
    "rffp_df_pkl_fpath = final_dir+'rffp_df.pkl'\n",
    "solid_df_pkl_fpath = final_dir+'solid_df.pkl'\n",
    "geral_df_pkl_fpath = final_dir+'geral_df.pkl'\n",
    "he_dics_pkl_fpath = final_dir+'he_dics.pkl'\n",
    "ml_dics_pkl_fpath = final_dir+'ml_dics.pkl'"
   ]
  },
  {
   "cell_type": "markdown",
   "metadata": {},
   "source": [
    "#### Loading variables and dataframes"
   ]
  },
  {
   "cell_type": "code",
   "execution_count": null,
   "metadata": {},
   "outputs": [],
   "source": [
    "raw_df = pd.read_pickle(raw_df_pkl_fpath)\n",
    "with open(he_dics_pkl_fpath, 'rb') as f:\n",
    "    pk_dic = pk.load(f)\n",
    "attrib_dic = pk_dic['attrib_dic']\n",
    "he_dic = pk_dic['he_dic']\n",
    "tab_to_feature_dic = pk_dic['tab_to_feature_dic']\n",
    "attrib_to_features_dic = pk_dic['attrib_to_features_dic']"
   ]
  },
  {
   "cell_type": "markdown",
   "metadata": {},
   "source": [
    "# 3. FEATURE ENGINEERING"
   ]
  },
  {
   "cell_type": "markdown",
   "metadata": {},
   "source": [
    "## 3.1. Classifying features"
   ]
  },
  {
   "cell_type": "code",
   "execution_count": 15,
   "metadata": {},
   "outputs": [],
   "source": [
    "index_col = ['proc_nr']\n",
    "categ_cols = ['Tipo Processo','Descrição Origem SIEF','Quantidade Volumes','Prioridade do Processo']\n",
    "numeric_cols = ['days_in_load']\n",
    "binary_cols = ['Indicador de Concessão de Medida Cautelar Fiscal','Indicador se Existe Processo de Acompanhamento Judicial',\\\n",
    "       'Indicador se Existe Processo de Arrolamento','Indicador se Existe Processo de Representação para Fins Penais',\\\n",
    "       'Indicador Contribuinte Diferenciado','Indicador Contribuinte Especial','Indicador de Optante pelo DTE',\\\n",
    "       'Indicador de Solicitante com Moléstia Grave','Indicador se Existe Responsável Solidário/Subsidiário',\\\n",
    "       'Indicador se Solicitada Prioridade Baseada no Estatuto do Idoso','Número Lote Atual']\n",
    "quantity_cols = ['Processos Vinculados']\n",
    "range_cols = ['Valor do Processo']\n",
    "qtd_folhas_cols = ['qtd_folhas_fisco', 'qtd_folhas_contestacao', 'qtd_folhas_total']\n",
    "tributo_group_cols = ['Tributo']\n",
    "infracao_group_cols = ['Infração']\n",
    "contrib_group_cols = ['Tipo Contribuinte','Porte Contribuinte']\n",
    "act_group_cols = ['ACT - Área de Concentração Temática','ACT - Origem','ACT - Tributo','ACT - Código','ACT - Código do Tema','ACT - Código Completo']\n",
    "target_col = ['he_float']\n",
    "exclude_cols = ['Grupo Processo','Subtipo Processo','Assunto COMPROT','Controle Processual','Data do Protocolo',\\\n",
    "       'Indicador se Existe Nota de Processo','Idade Contribuinte','Data Sessão DRJ','Equipe de Análise/Apreciação DRJ',\\\n",
    "       'Indicador de Julgamento em Lote','Data Distribuição Última','dt_protocolo','dt_pauta_drj','equipe_pauta',\\\n",
    "       'dt_distr_drj','dt_sessao_drj','he_efet','he_ajust','he_saido']"
   ]
  },
  {
   "cell_type": "markdown",
   "metadata": {},
   "source": [
    "## 3.2. Categorical Features"
   ]
  },
  {
   "cell_type": "code",
   "execution_count": 16,
   "metadata": {},
   "outputs": [
    {
     "data": {
      "text/html": [
       "<div>\n",
       "<style scoped>\n",
       "    .dataframe tbody tr th:only-of-type {\n",
       "        vertical-align: middle;\n",
       "    }\n",
       "\n",
       "    .dataframe tbody tr th {\n",
       "        vertical-align: top;\n",
       "    }\n",
       "\n",
       "    .dataframe thead th {\n",
       "        text-align: right;\n",
       "    }\n",
       "</style>\n",
       "<table border=\"1\" class=\"dataframe\">\n",
       "  <thead>\n",
       "    <tr style=\"text-align: right;\">\n",
       "      <th></th>\n",
       "      <th>proc_tipo</th>\n",
       "      <th>desc_sief</th>\n",
       "      <th>volume_nr</th>\n",
       "      <th>prior</th>\n",
       "    </tr>\n",
       "  </thead>\n",
       "  <tbody>\n",
       "    <tr>\n",
       "      <th>count</th>\n",
       "      <td>50178</td>\n",
       "      <td>50178</td>\n",
       "      <td>50178</td>\n",
       "      <td>50178</td>\n",
       "    </tr>\n",
       "    <tr>\n",
       "      <th>unique</th>\n",
       "      <td>8</td>\n",
       "      <td>14</td>\n",
       "      <td>10</td>\n",
       "      <td>4</td>\n",
       "    </tr>\n",
       "    <tr>\n",
       "      <th>top</th>\n",
       "      <td>LANÇAMENTO</td>\n",
       "      <td>Notificação de Lançamento Eletrônica</td>\n",
       "      <td>0001</td>\n",
       "      <td>SEM PRIORIDADE</td>\n",
       "    </tr>\n",
       "    <tr>\n",
       "      <th>freq</th>\n",
       "      <td>29466</td>\n",
       "      <td>11863</td>\n",
       "      <td>50101</td>\n",
       "      <td>46574</td>\n",
       "    </tr>\n",
       "  </tbody>\n",
       "</table>\n",
       "</div>"
      ],
      "text/plain": [
       "         proc_tipo                             desc_sief volume_nr  \\\n",
       "count        50178                                 50178     50178   \n",
       "unique           8                                    14        10   \n",
       "top     LANÇAMENTO  Notificação de Lançamento Eletrônica      0001   \n",
       "freq         29466                                 11863     50101   \n",
       "\n",
       "                 prior  \n",
       "count            50178  \n",
       "unique               4  \n",
       "top     SEM PRIORIDADE  \n",
       "freq             46574  "
      ]
     },
     "execution_count": 16,
     "metadata": {},
     "output_type": "execute_result"
    }
   ],
   "source": [
    "categ_names = {\n",
    "    'proc_nr':'proc_nr',\n",
    "    'Tipo Processo':'proc_tipo',\n",
    "    'Descrição Origem SIEF':'desc_sief',\n",
    "    'Quantidade Volumes':'volume_nr',\n",
    "    'Prioridade do Processo':'prior',\n",
    "}\n",
    "categ_df = raw_df[categ_cols].copy()\n",
    "categ_df.rename(columns=categ_names, inplace=True)\n",
    "categ_df['desc_sief'].fillna('N/D', inplace=True) # 3009 rows with 'desc_sief'=NaN\n",
    "categ_df.describe(include='all')"
   ]
  },
  {
   "cell_type": "code",
   "execution_count": 17,
   "metadata": {},
   "outputs": [
    {
     "data": {
      "text/html": [
       "<div>\n",
       "<style scoped>\n",
       "    .dataframe tbody tr th:only-of-type {\n",
       "        vertical-align: middle;\n",
       "    }\n",
       "\n",
       "    .dataframe tbody tr th {\n",
       "        vertical-align: top;\n",
       "    }\n",
       "\n",
       "    .dataframe thead th {\n",
       "        text-align: right;\n",
       "    }\n",
       "</style>\n",
       "<table border=\"1\" class=\"dataframe\">\n",
       "  <thead>\n",
       "    <tr style=\"text-align: right;\">\n",
       "      <th></th>\n",
       "      <th>proc_tipo</th>\n",
       "      <th>desc_sief</th>\n",
       "      <th>volume_nr</th>\n",
       "      <th>prior</th>\n",
       "    </tr>\n",
       "  </thead>\n",
       "  <tbody>\n",
       "    <tr>\n",
       "      <th>count</th>\n",
       "      <td>50178</td>\n",
       "      <td>50178</td>\n",
       "      <td>50178</td>\n",
       "      <td>50178</td>\n",
       "    </tr>\n",
       "    <tr>\n",
       "      <th>unique</th>\n",
       "      <td>6</td>\n",
       "      <td>14</td>\n",
       "      <td>10</td>\n",
       "      <td>4</td>\n",
       "    </tr>\n",
       "    <tr>\n",
       "      <th>top</th>\n",
       "      <td>LANÇAMENTO</td>\n",
       "      <td>Notificação de Lançamento Eletrônica</td>\n",
       "      <td>0001</td>\n",
       "      <td>SEM PRIORIDADE</td>\n",
       "    </tr>\n",
       "    <tr>\n",
       "      <th>freq</th>\n",
       "      <td>29466</td>\n",
       "      <td>11863</td>\n",
       "      <td>50101</td>\n",
       "      <td>46574</td>\n",
       "    </tr>\n",
       "  </tbody>\n",
       "</table>\n",
       "</div>"
      ],
      "text/plain": [
       "         proc_tipo                             desc_sief volume_nr  \\\n",
       "count        50178                                 50178     50178   \n",
       "unique           6                                    14        10   \n",
       "top     LANÇAMENTO  Notificação de Lançamento Eletrônica      0001   \n",
       "freq         29466                                 11863     50101   \n",
       "\n",
       "                 prior  \n",
       "count            50178  \n",
       "unique               4  \n",
       "top     SEM PRIORIDADE  \n",
       "freq             46574  "
      ]
     },
     "execution_count": 17,
     "metadata": {},
     "output_type": "execute_result"
    }
   ],
   "source": [
    "tipo_groups = {\n",
    "    'RESTITUIÇÃO':['RESTITUIÇÃO'],\n",
    "    'LANÇAMENTO':['LANÇAMENTO'],\n",
    "    'REST/COMP/REEMB/RESS':['RESSARCIMENTO','RESTITUIÇÃO/COMPENSAÇÃO/REEMBOLSO','RESTITUIÇÃO/RESSARCIMENTO/COMPENSAÇÃO'],\n",
    "    'OUTROS TRIBUTÁRIO':['OUTROS TRIBUTÁRIO'],\n",
    "    'OUTROS PREVIDENCIÁRIO':['OUTROS PREVIDENCIÁRIO'],\n",
    "    'OUTROS ADMINISTRATIVO/JUDICIAL':['OUTROS ADMINISTRATIVO/JUDICIAL'],\n",
    "}\n",
    "def getTipoClass(x, groups=tipo_groups):\n",
    "    c = ''\n",
    "    for k,v in groups.items():\n",
    "        if x in v:\n",
    "            c = k\n",
    "            break\n",
    "    return c\n",
    "categ_df['proc_tipo'] = raw_df['Tipo Processo'].apply(getTipoClass)\n",
    "categ_df.describe(include='all')"
   ]
  },
  {
   "cell_type": "code",
   "execution_count": 18,
   "metadata": {},
   "outputs": [],
   "source": [
    "desc_sief_groups = {\n",
    "    'PERDCOMP Manual':['MANUAL PER/DCOMP','MANUAL DCOMP','MANUAL PER'],\n",
    "    'PER/DCOMP Eletrônico':['AUTOMÁTICO DCOMP','AUTOMÁTICO PER', 'AUTOMÁTICO PER/DCOMP'],\n",
    "    'AUTO de Infração Eletrônico':['AUTO de Infração Eletrônico'],\n",
    "    'Notificação de Lançamento Eletrônica':['Notificação de Lançamento Eletrônica'],\n",
    "    'Ação Fiscal':['Ação Fiscal'],\n",
    "    'Declaração':['Declaração'],\n",
    "    'Revisão Interna':['Revisão Interna'],\n",
    "    'Confissão Espontânea':['Confissão Espontânea'],\n",
    "    'N/D':['N/D'],\n",
    "}\n",
    "def getSiefClass(x, groups=desc_sief_groups):\n",
    "    c = 'N/D'\n",
    "    for k,v in groups.items():\n",
    "        if x in v:\n",
    "            c = k\n",
    "            break\n",
    "    return c\n",
    "categ_df['desc_sief'] = categ_df['desc_sief'].apply(getSiefClass)"
   ]
  },
  {
   "cell_type": "code",
   "execution_count": 19,
   "metadata": {},
   "outputs": [
    {
     "data": {
      "text/html": [
       "<div>\n",
       "<style scoped>\n",
       "    .dataframe tbody tr th:only-of-type {\n",
       "        vertical-align: middle;\n",
       "    }\n",
       "\n",
       "    .dataframe tbody tr th {\n",
       "        vertical-align: top;\n",
       "    }\n",
       "\n",
       "    .dataframe thead th {\n",
       "        text-align: right;\n",
       "    }\n",
       "</style>\n",
       "<table border=\"1\" class=\"dataframe\">\n",
       "  <thead>\n",
       "    <tr style=\"text-align: right;\">\n",
       "      <th></th>\n",
       "      <th>proc_tipo</th>\n",
       "      <th>desc_sief</th>\n",
       "      <th>volume_nr</th>\n",
       "      <th>prior</th>\n",
       "    </tr>\n",
       "  </thead>\n",
       "  <tbody>\n",
       "    <tr>\n",
       "      <th>count</th>\n",
       "      <td>50178</td>\n",
       "      <td>50178</td>\n",
       "      <td>50178</td>\n",
       "      <td>50178</td>\n",
       "    </tr>\n",
       "    <tr>\n",
       "      <th>unique</th>\n",
       "      <td>6</td>\n",
       "      <td>9</td>\n",
       "      <td>3</td>\n",
       "      <td>4</td>\n",
       "    </tr>\n",
       "    <tr>\n",
       "      <th>top</th>\n",
       "      <td>LANÇAMENTO</td>\n",
       "      <td>PER/DCOMP Eletrônico</td>\n",
       "      <td>1</td>\n",
       "      <td>SEM PRIORIDADE</td>\n",
       "    </tr>\n",
       "    <tr>\n",
       "      <th>freq</th>\n",
       "      <td>29466</td>\n",
       "      <td>14732</td>\n",
       "      <td>50126</td>\n",
       "      <td>46574</td>\n",
       "    </tr>\n",
       "  </tbody>\n",
       "</table>\n",
       "</div>"
      ],
      "text/plain": [
       "         proc_tipo             desc_sief volume_nr           prior\n",
       "count        50178                 50178     50178           50178\n",
       "unique           6                     9         3               4\n",
       "top     LANÇAMENTO  PER/DCOMP Eletrônico         1  SEM PRIORIDADE\n",
       "freq         29466                 14732     50126           46574"
      ]
     },
     "execution_count": 19,
     "metadata": {},
     "output_type": "execute_result"
    }
   ],
   "source": [
    "vol_groups = {\n",
    "    '1':['0001','1'],\n",
    "    '2a5':['0002','0003','0004','0005'],\n",
    "    '6+':['0006','0007','0008','0009','0026']\n",
    "}\n",
    "def getVolClass(x, groups=vol_groups):\n",
    "    c = 'N/D'\n",
    "    for k,v in groups.items():\n",
    "        if x in v:\n",
    "            c = k\n",
    "            break\n",
    "    return c\n",
    "categ_df['volume_nr'] = categ_df['volume_nr'].apply(getVolClass)\n",
    "categ_df.describe(include='all')"
   ]
  },
  {
   "cell_type": "markdown",
   "metadata": {},
   "source": [
    "## 3.3. Group Features"
   ]
  },
  {
   "cell_type": "markdown",
   "metadata": {},
   "source": [
    "### 3.3.1.'trib_group' and 'tab_he' Group Features"
   ]
  },
  {
   "cell_type": "markdown",
   "metadata": {},
   "source": [
    "#### 'trib_group' table column"
   ]
  },
  {
   "cell_type": "code",
   "execution_count": 20,
   "metadata": {},
   "outputs": [],
   "source": [
    "trib_df = raw_df[tributo_group_cols].copy()\n",
    "trib_df.rename(columns={'Tributo':'trib_group'}, inplace=True)\n",
    "count_list = list(trib_df['trib_group'].value_counts())\n",
    "trib_list = list(trib_df['trib_group'].value_counts().index)\n",
    "trib_groups = {\n",
    "    'MULDI':['MULDI','MULDI PREV'],\n",
    "    'IRPF':['IRPF','IRPF, MULDI'],\n",
    "    'IRPJ':['IRPJ','CSLL','IRPJ, CSLL','IRPJ,CSLL, MULDI'],\n",
    "    'PIS/COFINS':['PIS/COFINS','PIS','COFINS','COFINS, PIS','COFINS, PIS, MULDI','PIS, COFINS','PASEP'],\n",
    "    'IRRF':['IRRF','IRRF, MULDI'],\n",
    "    'IPI':['IPI'],\n",
    "    'CP PATRONAL':['CP PATRONAL','CP PATRONAL, TERCEIROS','CP PATRONAL, CP SEGURADO, TERCEIROS','CP PATRONAL, CP SEGURADO','TERCEIROS','CP PATRONAL, MULDI PREV',\\\n",
    "        'CP PATRONAL, CP SEGURADO, TERCEIROS, MULDI PREV','CP SEGURADO','CP PATRONAL, TERCEIROS, MULDI PREV','CP PATRONAL, CP SEGURADO, MULDI PREV',\\\n",
    "        'TERCEIROS, MULDI PREV',', CP SEGURADO','CP SEGURADO, MULDI PREV',', CP PATRONAL','CP SEGURADO, TERCEIROS','CP PATRONAL,'],\n",
    "    'SIMPLES':['SIMPLES','SIMPLES NAC'],\n",
    "    'OUTROS':['IRPJ, COFINS, PIS, CSLL','II, IPI, COFINS, PIS','II','II, IPI, COFINS, PIS, MULDI','CSRF','IOF','ITR','II, COFINS, PIS, MULDI','II, COFINS, PIS',\\\n",
    "        'IRPJ, IRRF, CSLL','II, MULDI','IRPJ, IRRF, COFINS, PIS, CSLL','IPI, COFINS, PIS','II, IPI, MULDI','CIDE REM','II, IPI','IPI, MULDI','COSIRF',\\\n",
    "        'IRPJ, COFINS, PIS, CSLL, MULDI','IPI, COFINS, PIS, MULDI','IE','IRPJ, COFINS, CSLL','II, IPI, COFINS','CIDE COM','IRRF, CSRF','COFINS, PIS, CSLL',\\\n",
    "        'II, IPI, PIS, COFINS','IRPJ, IRRF, COFINS, PIS, CSLL, MULDI','CP PATRONAL, IRPJ, COFINS, PIS, CSLL','COFINS, CSLL','IRPJ, COFINS, PIS',\\\n",
    "        'II, PIS, COFINS','REFIS','II, IPI, COFINS, MULDI','IRRF, COFINS, PIS, CSRF','IRPJ, IPI, CSLL','IRPJ, IRRF, IOF, CSLL','IRRF, COFINS, MULDI',\\\n",
    "        'AFRMM','PIS, COFINS, IRPJ, CSLL, II','CONT PREV, IPI, COFINS, PIS','ITR, IRPJ, IRRF, COFINS, PIS, CSLL, MULDI, CSRF','IRRF, COFINS, PIS, MULDI',\\\n",
    "        'IRPJ, IRRF, IOF, COFINS, PIS, CSLL','COFINS, CSRF','IRPJ, IRRF, IOF, COFINS, PIS','MULDI, CIDE REM','IRRF, CSLL','IRPJ, CSLL, COFINS, PIS',\\\n",
    "        'IRPJ, IPI, COFINS, PIS, CSLL','MULDI, REG TRIB SIMPL','IRPJ, IOF, CSLL','II, IPI, COFINS, PIS, AFRMM','SIMPLES, IRPJ, COFINS, PIS, CSLL',\\\n",
    "        'IRRF, COFINS, PIS, CSLL','IRRF, COFINS, PIS','IRPJ, IRRF, IOF, COFINS, PIS, CSLL, CSRF, CIDE REM','CP PATRONAL, IRPJ, IPI, COFINS, PIS, CSLL',\\\n",
    "        'CPMF','IRPJ, PIS, CSLL','IPI, PIS','IRPJ, IRRF, CSLL, MULDI','IRRF, IOF, CSRF','SIMPLES, IRPJ, COFINS, PIS, CSLL, SIMPLES NAC']\n",
    "}\n",
    "def getTributoClass(x, trib_groups=trib_groups):\n",
    "    c = 'OUTROS'\n",
    "    for k,v in trib_groups.items():\n",
    "        if x in v:\n",
    "            c = k\n",
    "            break\n",
    "    return c\n",
    "trib_df['trib_group'] = trib_df['trib_group'].apply(getTributoClass)"
   ]
  },
  {
   "cell_type": "markdown",
   "metadata": {},
   "source": [
    "#### 'tab_he' column"
   ]
  },
  {
   "cell_type": "code",
   "execution_count": 21,
   "metadata": {},
   "outputs": [
    {
     "data": {
      "text/html": [
       "<div>\n",
       "<style scoped>\n",
       "    .dataframe tbody tr th:only-of-type {\n",
       "        vertical-align: middle;\n",
       "    }\n",
       "\n",
       "    .dataframe tbody tr th {\n",
       "        vertical-align: top;\n",
       "    }\n",
       "\n",
       "    .dataframe thead th {\n",
       "        text-align: right;\n",
       "    }\n",
       "</style>\n",
       "<table border=\"1\" class=\"dataframe\">\n",
       "  <thead>\n",
       "    <tr style=\"text-align: right;\">\n",
       "      <th></th>\n",
       "      <th>trib_group</th>\n",
       "      <th>he_tab</th>\n",
       "    </tr>\n",
       "  </thead>\n",
       "  <tbody>\n",
       "    <tr>\n",
       "      <th>count</th>\n",
       "      <td>50178</td>\n",
       "      <td>50178</td>\n",
       "    </tr>\n",
       "    <tr>\n",
       "      <th>unique</th>\n",
       "      <td>9</td>\n",
       "      <td>8</td>\n",
       "    </tr>\n",
       "    <tr>\n",
       "      <th>top</th>\n",
       "      <td>MULDI</td>\n",
       "      <td>2_0</td>\n",
       "    </tr>\n",
       "    <tr>\n",
       "      <th>freq</th>\n",
       "      <td>13084</td>\n",
       "      <td>21994</td>\n",
       "    </tr>\n",
       "  </tbody>\n",
       "</table>\n",
       "</div>"
      ],
      "text/plain": [
       "       trib_group he_tab\n",
       "count       50178  50178\n",
       "unique          9      8\n",
       "top         MULDI    2_0\n",
       "freq        13084  21994"
      ]
     },
     "execution_count": 21,
     "metadata": {},
     "output_type": "execute_result"
    }
   ],
   "source": [
    "def getTabHE(tributo):\n",
    "    he_tab = ''\n",
    "    for k, v in tab_to_feature_dic.items():\n",
    "        p_list = v['patterns']\n",
    "        for p in p_list:\n",
    "            if p in tributo:\n",
    "                he_tab = k\n",
    "                break\n",
    "    if he_tab=='':\n",
    "        he_tab = '9_0'\n",
    "    return he_tab\n",
    "\n",
    "def includeTabHEInDf(df):\n",
    "    he_tab_list, det_he_list = [], []\n",
    "    for index, row in df.iterrows():\n",
    "        # tributo = row['Tributo']\n",
    "        tributo = row['trib_group']\n",
    "        if not pd.isnull(tributo):\n",
    "            he_tab = getTabHE(tributo)\n",
    "        he_tab_list.append(he_tab)\n",
    "    return he_tab_list, det_he_list\n",
    "\n",
    "he_tab_list, det_he_list = includeTabHEInDf(trib_df)\n",
    "trib_df['he_tab'] = np.array(he_tab_list)\n",
    "trib_df.describe(include='all')"
   ]
  },
  {
   "cell_type": "markdown",
   "metadata": {},
   "source": [
    "### 3.3.2.'Infração' Group Feature"
   ]
  },
  {
   "cell_type": "code",
   "execution_count": 24,
   "metadata": {},
   "outputs": [
    {
     "data": {
      "text/plain": [
       "16"
      ]
     },
     "execution_count": 24,
     "metadata": {},
     "output_type": "execute_result"
    }
   ],
   "source": [
    "infracao_df = raw_df[['Infração']].copy()\n",
    "infr_nr_df = infracao_df['Infração'].value_counts()\n",
    "categs = list(infr_nr_df[infr_nr_df.values>=100].index)\n",
    "len(categs)"
   ]
  },
  {
   "cell_type": "code",
   "execution_count": 25,
   "metadata": {},
   "outputs": [
    {
     "data": {
      "text/html": [
       "<div>\n",
       "<style scoped>\n",
       "    .dataframe tbody tr th:only-of-type {\n",
       "        vertical-align: middle;\n",
       "    }\n",
       "\n",
       "    .dataframe tbody tr th {\n",
       "        vertical-align: top;\n",
       "    }\n",
       "\n",
       "    .dataframe thead th {\n",
       "        text-align: right;\n",
       "    }\n",
       "</style>\n",
       "<table border=\"1\" class=\"dataframe\">\n",
       "  <thead>\n",
       "    <tr style=\"text-align: right;\">\n",
       "      <th></th>\n",
       "      <th>infracao_group</th>\n",
       "    </tr>\n",
       "  </thead>\n",
       "  <tbody>\n",
       "    <tr>\n",
       "      <th>count</th>\n",
       "      <td>50178</td>\n",
       "    </tr>\n",
       "    <tr>\n",
       "      <th>unique</th>\n",
       "      <td>10</td>\n",
       "    </tr>\n",
       "    <tr>\n",
       "      <th>top</th>\n",
       "      <td>OUTROS</td>\n",
       "    </tr>\n",
       "    <tr>\n",
       "      <th>freq</th>\n",
       "      <td>34319</td>\n",
       "    </tr>\n",
       "  </tbody>\n",
       "</table>\n",
       "</div>"
      ],
      "text/plain": [
       "       infracao_group\n",
       "count           50178\n",
       "unique             10\n",
       "top            OUTROS\n",
       "freq            34319"
      ]
     },
     "execution_count": 25,
     "metadata": {},
     "output_type": "execute_result"
    }
   ],
   "source": [
    "infracao_df = raw_df[['Infração']].copy()\n",
    "infr_nr_df = infracao_df['Infração'].value_counts()\n",
    "infr_groups = {\n",
    "    'DEDUÇÃO INDEVIDA DE DESPESAS':[\n",
    "        'DEDUÇÃO INDEVIDA DE DESPESAS MÉDICAS',\n",
    "        'DEDUÇÃO INDEVIDA DE PENSÃO ALIMENTÍCIA JUDICIAL',\n",
    "        'DEDUÇÃO INDEVIDA COM DESPESA DE INSTRUÇÃO',\n",
    "        'DEDUÇÃO INDEVIDA DE PENSÃO ALIMENTÍCIA JUDICIAL, DEDUÇÃO INDEVIDA DE DESPESAS MÉDICAS',\n",
    "        'DEDUÇÃO INDEVIDA COM DESPESA DE INSTRUÇÃO, DEDUÇÃO INDEVIDA DE DESPESAS MÉDICAS',\n",
    "        'DEDUÇÃO INDEVIDA COM DEPENDENTES',\n",
    "    ],\n",
    "    'NÃO PRESTAÇÃO INFORMAÇÃO TRANSPORTE':[\n",
    "        'NÃO PRESTAÇÃO DE INFORMAÇÃO SOBRE VEÍCULO OU CARGA TRANSPORTADA, OU SOBRE OPERAÇÕES QUE EXECUTAR',\n",
    "    ],\n",
    "    'FALTA OU ATRASO GFIP':[\n",
    "        'FALTA OU ATRASO NA ENTREGA DA GFIP',\n",
    "    ],\n",
    "    'COMPENSAÇÃO INDEVIDA EFETUADA EM DECLARAÇÃO':[\n",
    "        'COMPENSAÇÃO INDEVIDA EFETUADA EM DECLARAÇÃO PRESTADA PELO SUJEITO PASSIVO',\n",
    "    ],\n",
    "    'COMPENSAÇÃO INDEVIDA IRRF':[\n",
    "        'COMPENSAÇÃO INDEVIDA DE IMPOSTO DE RENDA RETIDO NA FONTE',\n",
    "    ],\n",
    "    'OMISSÃO DE RENDIMENTOS':[\n",
    "        'OMISSÃO DE RENDIMENTOS DE ALUGUÉIS RECEBIDOS DE PESSOAS FÍSICAS - DIMOB',\n",
    "        'OMISSÃO DE RENDIMENTOS RECEBIDOS DE PESSOA JURÍDICA',\n",
    "        'OMISSÃO DE RENDIMENTOS DO TRABALHO COM VÍNCULO E/OU SEM VÍNCULO EMPREGATÍCIO',\n",
    "    ],\n",
    "    'RENDIMENTOS INDEVID. ISENTOS MOLÉSTIA':[\n",
    "        'RENDIMENTOS INDEVIDAMENTE CONSIDERADOS COMO ISENTOS POR MOLÉSTIA GRAVE - NÃO COMPROVAÇÃO DA MOLÉSTIA OU SUA CONDIÇÃO DE APOSENTADO, PENSIONISTA OU REFORMADO',\n",
    "    ],\n",
    "    'INSUFICIÊNCIA DE RECOLHIMENTO':[\n",
    "        'INSUFICIÊNCIA DE RECOLHIMENTO',\n",
    "    ],\n",
    "    'PERDIMENTO MERCADORIA':[\n",
    "        'MERCADORIA SUJEITA A PERDIMENTO - NÃO LOCALIZADA, CONSUMIDA OU REVENDIDA',\n",
    "    ],\n",
    "    'OUTROS':list(infr_nr_df[infr_nr_df.values<100].index)\n",
    "}\n",
    "def getInfracaoClass(x, groups=infr_groups):\n",
    "    c = 'OUTROS'\n",
    "    for k,v in groups.items():\n",
    "        if x in v:\n",
    "            c = k\n",
    "            break\n",
    "    return c\n",
    "\n",
    "infracao_df.rename(columns={'Infração':'infracao_group'}, inplace=True)\n",
    "infracao_df['infracao_group'] = infracao_df['infracao_group'].apply(getInfracaoClass)\n",
    "infracao_df.describe(include='all')"
   ]
  },
  {
   "cell_type": "markdown",
   "metadata": {},
   "source": [
    "### 3.3.3. ['Tipo Contribuinte', 'Porte Contribuinte'] joint group Feature"
   ]
  },
  {
   "cell_type": "code",
   "execution_count": 26,
   "metadata": {},
   "outputs": [
    {
     "data": {
      "text/html": [
       "<div>\n",
       "<style scoped>\n",
       "    .dataframe tbody tr th:only-of-type {\n",
       "        vertical-align: middle;\n",
       "    }\n",
       "\n",
       "    .dataframe tbody tr th {\n",
       "        vertical-align: top;\n",
       "    }\n",
       "\n",
       "    .dataframe thead th {\n",
       "        text-align: right;\n",
       "    }\n",
       "</style>\n",
       "<table border=\"1\" class=\"dataframe\">\n",
       "  <thead>\n",
       "    <tr style=\"text-align: right;\">\n",
       "      <th></th>\n",
       "      <th>contrib_group</th>\n",
       "    </tr>\n",
       "  </thead>\n",
       "  <tbody>\n",
       "    <tr>\n",
       "      <th>count</th>\n",
       "      <td>50178</td>\n",
       "    </tr>\n",
       "    <tr>\n",
       "      <th>unique</th>\n",
       "      <td>4</td>\n",
       "    </tr>\n",
       "    <tr>\n",
       "      <th>top</th>\n",
       "      <td>PJ_Demais</td>\n",
       "    </tr>\n",
       "    <tr>\n",
       "      <th>freq</th>\n",
       "      <td>26290</td>\n",
       "    </tr>\n",
       "  </tbody>\n",
       "</table>\n",
       "</div>"
      ],
      "text/plain": [
       "       contrib_group\n",
       "count          50178\n",
       "unique             4\n",
       "top        PJ_Demais\n",
       "freq           26290"
      ]
     },
     "execution_count": 26,
     "metadata": {},
     "output_type": "execute_result"
    }
   ],
   "source": [
    "tp_contr_df = raw_df[contrib_group_cols].copy()\n",
    "tp_contr_df['contrib_group'] = ''\n",
    "for index,row in tp_contr_df.iterrows():\n",
    "    contr_group = 'PF'\n",
    "    if row['Tipo Contribuinte']=='PJ':\n",
    "        porte = row['Porte Contribuinte']\n",
    "        if pd.isnull(porte):\n",
    "            porte = 'Demais'\n",
    "        contr_group = 'PJ_'+porte\n",
    "    tp_contr_df.at[index,'contrib_group'] = contr_group\n",
    "tp_contr_df.drop(columns=['Tipo Contribuinte', 'Porte Contribuinte'], inplace=True)\n",
    "tp_contr_df.describe(include='all')"
   ]
  },
  {
   "cell_type": "markdown",
   "metadata": {},
   "source": [
    "### 3.3.4. ['ACT - Área de Concentração Temática', 'ACT - Origem','ACT - Tributo', 'ACT - Código', 'ACT - Código do Tema', 'ACT - Código Completo'] Group Feature"
   ]
  },
  {
   "cell_type": "code",
   "execution_count": 27,
   "metadata": {},
   "outputs": [],
   "source": [
    "### NOT USING ACT AT FIRST, redundant with other thematic features?"
   ]
  },
  {
   "cell_type": "markdown",
   "metadata": {},
   "source": [
    "## 3.4. Binary Features"
   ]
  },
  {
   "cell_type": "code",
   "execution_count": 28,
   "metadata": {},
   "outputs": [],
   "source": [
    "binary_names = {\n",
    "    'Indicador de Concessão de Medida Cautelar Fiscal':'MCF',\n",
    "    'Indicador se Existe Processo de Acompanhamento Judicial':'Jud',\n",
    "    'Indicador se Existe Processo de Arrolamento':'Arr',\n",
    "    'Indicador se Existe Processo de Representação para Fins Penais':'RFFP',\n",
    "    'Indicador Contribuinte Diferenciado':'CD',\n",
    "    'Indicador Contribuinte Especial':'CE',\n",
    "    'Indicador de Optante pelo DTE':'DTE',\n",
    "    'Indicador de Solicitante com Moléstia Grave':'MolGrv',\n",
    "    'Indicador se Existe Responsável Solidário/Subsidiário':'Solid',\n",
    "    'Indicador se Solicitada Prioridade Baseada no Estatuto do Idoso':'Idoso',\n",
    "    'Número Lote Atual':'Lote',\n",
    "}\n",
    "bin_df = raw_df[binary_cols].copy()\n",
    "bin_df.rename(columns=binary_names, inplace=True)"
   ]
  },
  {
   "cell_type": "markdown",
   "metadata": {},
   "source": [
    "#### Fulfill missing with 'N' and replacing lot number with 'S' "
   ]
  },
  {
   "cell_type": "code",
   "execution_count": 29,
   "metadata": {},
   "outputs": [
    {
     "data": {
      "text/html": [
       "<div>\n",
       "<style scoped>\n",
       "    .dataframe tbody tr th:only-of-type {\n",
       "        vertical-align: middle;\n",
       "    }\n",
       "\n",
       "    .dataframe tbody tr th {\n",
       "        vertical-align: top;\n",
       "    }\n",
       "\n",
       "    .dataframe thead th {\n",
       "        text-align: right;\n",
       "    }\n",
       "</style>\n",
       "<table border=\"1\" class=\"dataframe\">\n",
       "  <thead>\n",
       "    <tr style=\"text-align: right;\">\n",
       "      <th></th>\n",
       "      <th>MCF</th>\n",
       "      <th>Jud</th>\n",
       "      <th>Arr</th>\n",
       "      <th>RFFP</th>\n",
       "      <th>CD</th>\n",
       "      <th>CE</th>\n",
       "      <th>DTE</th>\n",
       "      <th>MolGrv</th>\n",
       "      <th>Solid</th>\n",
       "      <th>Idoso</th>\n",
       "      <th>Lote</th>\n",
       "    </tr>\n",
       "  </thead>\n",
       "  <tbody>\n",
       "    <tr>\n",
       "      <th>count</th>\n",
       "      <td>50178</td>\n",
       "      <td>50178</td>\n",
       "      <td>50178</td>\n",
       "      <td>50178</td>\n",
       "      <td>50178</td>\n",
       "      <td>50178</td>\n",
       "      <td>50178</td>\n",
       "      <td>50178</td>\n",
       "      <td>50178</td>\n",
       "      <td>50178</td>\n",
       "      <td>50178</td>\n",
       "    </tr>\n",
       "    <tr>\n",
       "      <th>unique</th>\n",
       "      <td>2</td>\n",
       "      <td>2</td>\n",
       "      <td>2</td>\n",
       "      <td>2</td>\n",
       "      <td>2</td>\n",
       "      <td>2</td>\n",
       "      <td>2</td>\n",
       "      <td>2</td>\n",
       "      <td>2</td>\n",
       "      <td>2</td>\n",
       "      <td>2</td>\n",
       "    </tr>\n",
       "    <tr>\n",
       "      <th>top</th>\n",
       "      <td>N</td>\n",
       "      <td>N</td>\n",
       "      <td>N</td>\n",
       "      <td>N</td>\n",
       "      <td>N</td>\n",
       "      <td>N</td>\n",
       "      <td>N</td>\n",
       "      <td>N</td>\n",
       "      <td>N</td>\n",
       "      <td>N</td>\n",
       "      <td>N</td>\n",
       "    </tr>\n",
       "    <tr>\n",
       "      <th>freq</th>\n",
       "      <td>50151</td>\n",
       "      <td>50030</td>\n",
       "      <td>49346</td>\n",
       "      <td>48749</td>\n",
       "      <td>42090</td>\n",
       "      <td>45478</td>\n",
       "      <td>31573</td>\n",
       "      <td>49431</td>\n",
       "      <td>49338</td>\n",
       "      <td>48294</td>\n",
       "      <td>47324</td>\n",
       "    </tr>\n",
       "  </tbody>\n",
       "</table>\n",
       "</div>"
      ],
      "text/plain": [
       "          MCF    Jud    Arr   RFFP     CD     CE    DTE MolGrv  Solid  Idoso  \\\n",
       "count   50178  50178  50178  50178  50178  50178  50178  50178  50178  50178   \n",
       "unique      2      2      2      2      2      2      2      2      2      2   \n",
       "top         N      N      N      N      N      N      N      N      N      N   \n",
       "freq    50151  50030  49346  48749  42090  45478  31573  49431  49338  48294   \n",
       "\n",
       "         Lote  \n",
       "count   50178  \n",
       "unique      2  \n",
       "top         N  \n",
       "freq    47324  "
      ]
     },
     "execution_count": 29,
     "metadata": {},
     "output_type": "execute_result"
    }
   ],
   "source": [
    "bin_df.fillna('N', inplace=True)\n",
    "bin_df['Lote'] = bin_df['Lote'].apply(lambda x: 'N' if x=='N' else 'S')\n",
    "bin_df.describe(include='all')"
   ]
  },
  {
   "cell_type": "markdown",
   "metadata": {},
   "source": [
    "## 3.5. Numeric Quantity Features to Ranges"
   ]
  },
  {
   "cell_type": "markdown",
   "metadata": {},
   "source": [
    "#### Número de processos vinculados"
   ]
  },
  {
   "cell_type": "code",
   "execution_count": 30,
   "metadata": {},
   "outputs": [
    {
     "data": {
      "text/html": [
       "<div>\n",
       "<style scoped>\n",
       "    .dataframe tbody tr th:only-of-type {\n",
       "        vertical-align: middle;\n",
       "    }\n",
       "\n",
       "    .dataframe tbody tr th {\n",
       "        vertical-align: top;\n",
       "    }\n",
       "\n",
       "    .dataframe thead th {\n",
       "        text-align: right;\n",
       "    }\n",
       "</style>\n",
       "<table border=\"1\" class=\"dataframe\">\n",
       "  <thead>\n",
       "    <tr style=\"text-align: right;\">\n",
       "      <th></th>\n",
       "      <th>qtt_proc_vinc</th>\n",
       "    </tr>\n",
       "  </thead>\n",
       "  <tbody>\n",
       "    <tr>\n",
       "      <th>count</th>\n",
       "      <td>50178</td>\n",
       "    </tr>\n",
       "    <tr>\n",
       "      <th>unique</th>\n",
       "      <td>4</td>\n",
       "    </tr>\n",
       "    <tr>\n",
       "      <th>top</th>\n",
       "      <td>0</td>\n",
       "    </tr>\n",
       "    <tr>\n",
       "      <th>freq</th>\n",
       "      <td>31742</td>\n",
       "    </tr>\n",
       "  </tbody>\n",
       "</table>\n",
       "</div>"
      ],
      "text/plain": [
       "       qtt_proc_vinc\n",
       "count          50178\n",
       "unique             4\n",
       "top                0\n",
       "freq           31742"
      ]
     },
     "execution_count": 30,
     "metadata": {},
     "output_type": "execute_result"
    }
   ],
   "source": [
    "vinc_groups = {\n",
    "    '0':['0'],\n",
    "    '1a5':['1', '2', '3', '4', '5'],\n",
    "    '6a10':['6', '7', '8', '9', '10'],\n",
    "    '11a100':['11', '12', '13', '14', '15','16', '17', '18', '19', '20','21', '22'],\n",
    "}\n",
    "def getVincClass(x, groups=vinc_groups):\n",
    "    c = '0'\n",
    "    if pd.isnull(x):\n",
    "        c = '0'\n",
    "    else:\n",
    "        x = str(len(x.split(',')))\n",
    "        for k,v in groups.items():\n",
    "            if x in v:\n",
    "                c = k\n",
    "                break\n",
    "    return c\n",
    "vinc_df = raw_df[['Processos Vinculados']].copy()\n",
    "vinc_df.rename(columns={'Processos Vinculados':'qtt_proc_vinc'}, inplace=True)\n",
    "vinc_df['qtt_proc_vinc'] = vinc_df['qtt_proc_vinc'].apply(getVincClass)\n",
    "vinc_df.describe(include='all')"
   ]
  },
  {
   "cell_type": "markdown",
   "metadata": {},
   "source": [
    "#### Valor do Processo"
   ]
  },
  {
   "cell_type": "code",
   "execution_count": 31,
   "metadata": {},
   "outputs": [
    {
     "data": {
      "text/html": [
       "<div>\n",
       "<style scoped>\n",
       "    .dataframe tbody tr th:only-of-type {\n",
       "        vertical-align: middle;\n",
       "    }\n",
       "\n",
       "    .dataframe tbody tr th {\n",
       "        vertical-align: top;\n",
       "    }\n",
       "\n",
       "    .dataframe thead th {\n",
       "        text-align: right;\n",
       "    }\n",
       "</style>\n",
       "<table border=\"1\" class=\"dataframe\">\n",
       "  <thead>\n",
       "    <tr style=\"text-align: right;\">\n",
       "      <th></th>\n",
       "      <th>proc_val</th>\n",
       "    </tr>\n",
       "  </thead>\n",
       "  <tbody>\n",
       "    <tr>\n",
       "      <th>count</th>\n",
       "      <td>50178</td>\n",
       "    </tr>\n",
       "    <tr>\n",
       "      <th>unique</th>\n",
       "      <td>5</td>\n",
       "    </tr>\n",
       "    <tr>\n",
       "      <th>top</th>\n",
       "      <td>Zero</td>\n",
       "    </tr>\n",
       "    <tr>\n",
       "      <th>freq</th>\n",
       "      <td>17171</td>\n",
       "    </tr>\n",
       "  </tbody>\n",
       "</table>\n",
       "</div>"
      ],
      "text/plain": [
       "       proc_val\n",
       "count     50178\n",
       "unique        5\n",
       "top        Zero\n",
       "freq      17171"
      ]
     },
     "execution_count": 31,
     "metadata": {},
     "output_type": "execute_result"
    }
   ],
   "source": [
    "range_dic = {'Zero':0., 'Baixo':0.01, 'Medio':2808.31, 'Alto':9693.62, 'Altissimo':115682.60}\n",
    "def getValClass(x, range_dic=range_dic):\n",
    "    c = 4\n",
    "    for k,v in range_dic.items():\n",
    "        if x>=v:\n",
    "            c = k\n",
    "    return c\n",
    "\n",
    "val_df = raw_df[range_cols].copy()\n",
    "val_df.rename(columns={'Valor do Processo':'proc_val'}, inplace=True)\n",
    "val_df['proc_val'] = val_df['proc_val'].apply(getValClass).astype(str)\n",
    "val_df.describe(include='all')"
   ]
  },
  {
   "cell_type": "markdown",
   "metadata": {},
   "source": [
    "#### Quantidade de Folhas de Documentos"
   ]
  },
  {
   "cell_type": "code",
   "execution_count": 80,
   "metadata": {},
   "outputs": [
    {
     "data": {
      "text/html": [
       "<div>\n",
       "<style scoped>\n",
       "    .dataframe tbody tr th:only-of-type {\n",
       "        vertical-align: middle;\n",
       "    }\n",
       "\n",
       "    .dataframe tbody tr th {\n",
       "        vertical-align: top;\n",
       "    }\n",
       "\n",
       "    .dataframe thead th {\n",
       "        text-align: right;\n",
       "    }\n",
       "</style>\n",
       "<table border=\"1\" class=\"dataframe\">\n",
       "  <thead>\n",
       "    <tr style=\"text-align: right;\">\n",
       "      <th></th>\n",
       "      <th>qtd_folhas_fisco</th>\n",
       "      <th>qtd_folhas_contestacao</th>\n",
       "      <th>qtd_folhas_total</th>\n",
       "      <th>fisco_fls_categ</th>\n",
       "      <th>contestacao_fls_categ</th>\n",
       "      <th>total_fls_categ</th>\n",
       "    </tr>\n",
       "  </thead>\n",
       "  <tbody>\n",
       "    <tr>\n",
       "      <th>count</th>\n",
       "      <td>50178.000000</td>\n",
       "      <td>50178.000000</td>\n",
       "      <td>50178.000000</td>\n",
       "      <td>50178</td>\n",
       "      <td>50178</td>\n",
       "      <td>50178</td>\n",
       "    </tr>\n",
       "    <tr>\n",
       "      <th>unique</th>\n",
       "      <td>NaN</td>\n",
       "      <td>NaN</td>\n",
       "      <td>NaN</td>\n",
       "      <td>6</td>\n",
       "      <td>6</td>\n",
       "      <td>5</td>\n",
       "    </tr>\n",
       "    <tr>\n",
       "      <th>top</th>\n",
       "      <td>NaN</td>\n",
       "      <td>NaN</td>\n",
       "      <td>NaN</td>\n",
       "      <td>0</td>\n",
       "      <td>de 21 em diante</td>\n",
       "      <td>de 101 a 500</td>\n",
       "    </tr>\n",
       "    <tr>\n",
       "      <th>freq</th>\n",
       "      <td>NaN</td>\n",
       "      <td>NaN</td>\n",
       "      <td>NaN</td>\n",
       "      <td>21856</td>\n",
       "      <td>17535</td>\n",
       "      <td>18259</td>\n",
       "    </tr>\n",
       "    <tr>\n",
       "      <th>mean</th>\n",
       "      <td>12.366974</td>\n",
       "      <td>35.635318</td>\n",
       "      <td>527.628542</td>\n",
       "      <td>NaN</td>\n",
       "      <td>NaN</td>\n",
       "      <td>NaN</td>\n",
       "    </tr>\n",
       "    <tr>\n",
       "      <th>std</th>\n",
       "      <td>172.926976</td>\n",
       "      <td>163.134801</td>\n",
       "      <td>5535.888289</td>\n",
       "      <td>NaN</td>\n",
       "      <td>NaN</td>\n",
       "      <td>NaN</td>\n",
       "    </tr>\n",
       "    <tr>\n",
       "      <th>min</th>\n",
       "      <td>0.000000</td>\n",
       "      <td>0.000000</td>\n",
       "      <td>15.000000</td>\n",
       "      <td>NaN</td>\n",
       "      <td>NaN</td>\n",
       "      <td>NaN</td>\n",
       "    </tr>\n",
       "    <tr>\n",
       "      <th>25%</th>\n",
       "      <td>0.000000</td>\n",
       "      <td>3.000000</td>\n",
       "      <td>56.000000</td>\n",
       "      <td>NaN</td>\n",
       "      <td>NaN</td>\n",
       "      <td>NaN</td>\n",
       "    </tr>\n",
       "    <tr>\n",
       "      <th>50%</th>\n",
       "      <td>1.000000</td>\n",
       "      <td>12.000000</td>\n",
       "      <td>98.000000</td>\n",
       "      <td>NaN</td>\n",
       "      <td>NaN</td>\n",
       "      <td>NaN</td>\n",
       "    </tr>\n",
       "    <tr>\n",
       "      <th>75%</th>\n",
       "      <td>5.000000</td>\n",
       "      <td>30.000000</td>\n",
       "      <td>227.000000</td>\n",
       "      <td>NaN</td>\n",
       "      <td>NaN</td>\n",
       "      <td>NaN</td>\n",
       "    </tr>\n",
       "    <tr>\n",
       "      <th>max</th>\n",
       "      <td>15296.000000</td>\n",
       "      <td>14481.000000</td>\n",
       "      <td>391379.000000</td>\n",
       "      <td>NaN</td>\n",
       "      <td>NaN</td>\n",
       "      <td>NaN</td>\n",
       "    </tr>\n",
       "  </tbody>\n",
       "</table>\n",
       "</div>"
      ],
      "text/plain": [
       "        qtd_folhas_fisco  qtd_folhas_contestacao  qtd_folhas_total  \\\n",
       "count       50178.000000            50178.000000      50178.000000   \n",
       "unique               NaN                     NaN               NaN   \n",
       "top                  NaN                     NaN               NaN   \n",
       "freq                 NaN                     NaN               NaN   \n",
       "mean           12.366974               35.635318        527.628542   \n",
       "std           172.926976              163.134801       5535.888289   \n",
       "min             0.000000                0.000000         15.000000   \n",
       "25%             0.000000                3.000000         56.000000   \n",
       "50%             1.000000               12.000000         98.000000   \n",
       "75%             5.000000               30.000000        227.000000   \n",
       "max         15296.000000            14481.000000     391379.000000   \n",
       "\n",
       "       fisco_fls_categ contestacao_fls_categ total_fls_categ  \n",
       "count            50178                 50178           50178  \n",
       "unique               6                     6               5  \n",
       "top                  0       de 21 em diante    de 101 a 500  \n",
       "freq             21856                 17535           18259  \n",
       "mean               NaN                   NaN             NaN  \n",
       "std                NaN                   NaN             NaN  \n",
       "min                NaN                   NaN             NaN  \n",
       "25%                NaN                   NaN             NaN  \n",
       "50%                NaN                   NaN             NaN  \n",
       "75%                NaN                   NaN             NaN  \n",
       "max                NaN                   NaN             NaN  "
      ]
     },
     "execution_count": 80,
     "metadata": {},
     "output_type": "execute_result"
    }
   ],
   "source": [
    "qtd_fls_df = raw_df[qtd_folhas_cols].astype(int).copy()\n",
    "\n",
    "qtd_folhas_dic = {\n",
    "    'qtd_folhas_fisco': {\n",
    "            'de 1 a 1': {'feature':'qtd_folhas_fisco', 'categ':list(range(1,2))},\n",
    "            'de 2 a 2': {'feature':'qtd_folhas_fisco', 'categ':list(range(2,3))},\n",
    "            'de 3 a 5': {'feature':'qtd_folhas_fisco', 'categ':list(range(3,6))},\n",
    "            'de 6 a 15': {'feature':'qtd_folhas_fisco', 'categ':list(range(6,15))},\n",
    "            'de 16 em diante': {'feature':'qtd_folhas_fisco', 'categ':list(range(15,qtd_fls_df['qtd_folhas_fisco'].max()+1))},\n",
    "    },\n",
    "    'qtd_folhas_contestacao': {\n",
    "            'de 1 a 1': {'feature':'qtd_folhas_contestacao', 'categ':list(range(1,2))},\n",
    "            'de 2 a 4': {'feature':'qtd_folhas_contestacao', 'categ':list(range(2,5))},\n",
    "            'de 5 a 10': {'feature':'qtd_folhas_contestacao', 'categ':list(range(5,11))},\n",
    "            'de 11 a 20': {'feature':'qtd_folhas_contestacao', 'categ':list(range(11,21))},\n",
    "            'de 21 em diante': {'feature':'qtd_folhas_contestacao', 'categ':list(range(21,qtd_fls_df['qtd_folhas_contestacao'].max()+1))},\n",
    "    },\n",
    "    'qtd_folhas_total': {\n",
    "            'de 1 a 50': {'feature':'qtd_folhas_total', 'categ':list(range(1,51))},\n",
    "            'de 51 a 100': {'feature':'qtd_folhas_total', 'categ':list(range(51,101))},\n",
    "            'de 101 a 500': {'feature':'qtd_folhas_total', 'categ':list(range(101,501))},\n",
    "            'de 501 a 1000': {'feature':'qtd_folhas_total', 'categ':list(range(501,1000))},\n",
    "            'de 1001 em diante': {'feature':'qtd_folhas_total', 'categ':list(range(1000,qtd_fls_df['qtd_folhas_total'].max()+1))},\n",
    "    },\n",
    "}\n",
    "\n",
    "for att in qtd_folhas_dic.keys():\n",
    "    qtd_categ = att[11:]+'_fls_categ'\n",
    "    qtd_fls_df[qtd_categ] = ''\n",
    "for idx in qtd_fls_df.index:\n",
    "    for att in qtd_folhas_dic.keys():\n",
    "        qtd_categ = att[11:]+'_fls_categ'\n",
    "        qtd = int(qtd_fls_df.at[idx, att])\n",
    "        categ = ''\n",
    "        for k,v in qtd_folhas_dic[att].items():\n",
    "            if qtd in v['categ']:\n",
    "                categ = k\n",
    "                qtd_fls_df.at[idx, qtd_categ] = categ\n",
    "                break\n",
    "        if categ=='' and qtd==0:\n",
    "            qtd_fls_df.at[idx, qtd_categ] = '0'\n",
    "qtd_fls_df.describe(include='all')"
   ]
  },
  {
   "cell_type": "markdown",
   "metadata": {},
   "source": [
    "### 3.6. Target Feature 'he_float'"
   ]
  },
  {
   "cell_type": "code",
   "execution_count": 77,
   "metadata": {},
   "outputs": [
    {
     "data": {
      "text/html": [
       "<div>\n",
       "<style scoped>\n",
       "    .dataframe tbody tr th:only-of-type {\n",
       "        vertical-align: middle;\n",
       "    }\n",
       "\n",
       "    .dataframe tbody tr th {\n",
       "        vertical-align: top;\n",
       "    }\n",
       "\n",
       "    .dataframe thead th {\n",
       "        text-align: right;\n",
       "    }\n",
       "</style>\n",
       "<table border=\"1\" class=\"dataframe\">\n",
       "  <thead>\n",
       "    <tr style=\"text-align: right;\">\n",
       "      <th></th>\n",
       "      <th>he_float</th>\n",
       "    </tr>\n",
       "  </thead>\n",
       "  <tbody>\n",
       "    <tr>\n",
       "      <th>count</th>\n",
       "      <td>50178.000000</td>\n",
       "    </tr>\n",
       "    <tr>\n",
       "      <th>mean</th>\n",
       "      <td>11.619730</td>\n",
       "    </tr>\n",
       "    <tr>\n",
       "      <th>std</th>\n",
       "      <td>11.337041</td>\n",
       "    </tr>\n",
       "    <tr>\n",
       "      <th>min</th>\n",
       "      <td>0.630000</td>\n",
       "    </tr>\n",
       "    <tr>\n",
       "      <th>25%</th>\n",
       "      <td>5.000000</td>\n",
       "    </tr>\n",
       "    <tr>\n",
       "      <th>50%</th>\n",
       "      <td>8.000000</td>\n",
       "    </tr>\n",
       "    <tr>\n",
       "      <th>75%</th>\n",
       "      <td>14.000000</td>\n",
       "    </tr>\n",
       "    <tr>\n",
       "      <th>max</th>\n",
       "      <td>147.000000</td>\n",
       "    </tr>\n",
       "  </tbody>\n",
       "</table>\n",
       "</div>"
      ],
      "text/plain": [
       "           he_float\n",
       "count  50178.000000\n",
       "mean      11.619730\n",
       "std       11.337041\n",
       "min        0.630000\n",
       "25%        5.000000\n",
       "50%        8.000000\n",
       "75%       14.000000\n",
       "max      147.000000"
      ]
     },
     "execution_count": 77,
     "metadata": {},
     "output_type": "execute_result"
    }
   ],
   "source": [
    "he_df = raw_df[['he_float']].astype(float).copy()\n",
    "he_df.describe(include='all')"
   ]
  },
  {
   "cell_type": "markdown",
   "metadata": {},
   "source": [
    "# 4. COMPUTE FEATURES"
   ]
  },
  {
   "cell_type": "markdown",
   "metadata": {},
   "source": [
    "#### Compute 'he_calc' from 'qtd_folhas...' in 'calc_df'"
   ]
  },
  {
   "cell_type": "code",
   "execution_count": 81,
   "metadata": {},
   "outputs": [],
   "source": [
    "def calcHeAttrib(he_str):\n",
    "    return int(he_str[:he_str.find(':')]) + float(he_str[he_str.find(':')+1:])/60.\n",
    "\n",
    "calc_df = pd.concat([trib_df, qtd_fls_df, he_df], axis=1, join=\"inner\")\n",
    "calc_df['he_calc'] = 0.\n",
    "for feat in qtd_folhas_dic.keys():\n",
    "    feat_calc = 'he_calc_'+feat[11:]\n",
    "    calc_df[feat_calc] = 0.\n",
    "\n",
    "for proc_nr in calc_df.index:\n",
    "    he_calc = 0.\n",
    "    for feat in qtd_folhas_dic.keys():\n",
    "        feat_val = calc_df.at[proc_nr, feat]\n",
    "        if feat_val==0:\n",
    "            he_attrib = 0.\n",
    "        else:\n",
    "            he_tab = calc_df.at[proc_nr, 'he_tab']\n",
    "            he_tab_name = tab_to_feature_dic[he_tab]['name']\n",
    "            for k,v in attrib_to_features_dic[feat].items():\n",
    "                if feat_val in v['categ']:\n",
    "                    attrib = k\n",
    "                    break\n",
    "            # if attrib=='de 20 a 23':\n",
    "            #     print(proc_nr, he_tab_name, feat, attrib, he_str, feat_val)\n",
    "            he_str = he_dic[he_tab_name][feat][attrib]\n",
    "            he_attrib = calcHeAttrib(he_str)\n",
    "        calc_df.at[proc_nr, 'he_calc_'+feat[11:]] = he_attrib\n",
    "        he_calc += he_attrib\n",
    "    calc_df.at[proc_nr, 'he_calc'] = he_calc\n",
    "calc_df.drop(columns=qtd_folhas_cols, inplace=True)"
   ]
  },
  {
   "cell_type": "markdown",
   "metadata": {},
   "source": [
    "#### Define 'he_calc_group' from 'he_calc'"
   ]
  },
  {
   "cell_type": "code",
   "execution_count": 82,
   "metadata": {},
   "outputs": [
    {
     "name": "stdout",
     "output_type": "stream",
     "text": [
      "       trib_group he_tab fisco_fls_categ contestacao_fls_categ  \\\n",
      "count       50178  50178           50178                 50178   \n",
      "unique          9      8               6                     6   \n",
      "top         MULDI    2_0               0       de 21 em diante   \n",
      "freq        13084  21994           21856                 17535   \n",
      "\n",
      "       total_fls_categ he_calc_group he_group  \n",
      "count            50178         50178    50178  \n",
      "unique               5             5        4  \n",
      "top       de 101 a 500             0        0  \n",
      "freq             18259         34624    26564  \n"
     ]
    }
   ],
   "source": [
    "he_calc_classes_dic = {'0':8., '1':16., '2':24., '3':32., '4':1000.}\n",
    "he_calc_classes = list(he_calc_classes_dic.keys())\n",
    "\n",
    "he_classes_dic = {'0':8., '1':16., '2':32., '3':1000.}\n",
    "he_classes = list(he_classes_dic.keys())\n",
    "\n",
    "def getClass(x, classes):\n",
    "    c = 0\n",
    "    for k,v in classes.items():\n",
    "        if x<=v:\n",
    "            c = k\n",
    "            break\n",
    "    return c\n",
    "\n",
    "def getHeCalcClass(x, he_calc_groups=he_calc_classes_dic):\n",
    "    return getClass(x, he_calc_groups)\n",
    "\n",
    "calc_df['he_calc_group'] = calc_df['he_calc'].apply(getHeCalcClass)\n",
    "categ_cols = categ_cols + ['he_calc_group']\n",
    "\n",
    "def getHeClass(x, he_groups=he_classes_dic):\n",
    "    return getClass(x, he_groups)\n",
    "\n",
    "calc_df['he_group'] = calc_df['he_float'].apply(getHeClass)\n",
    "\n",
    "print(calc_df.describe(include=object))"
   ]
  },
  {
   "cell_type": "code",
   "execution_count": 87,
   "metadata": {},
   "outputs": [
    {
     "data": {
      "text/plain": [
       "array([[<AxesSubplot:title={'center':'he_diff'}>]], dtype=object)"
      ]
     },
     "execution_count": 87,
     "metadata": {},
     "output_type": "execute_result"
    },
    {
     "data": {
      "image/png": "[encoded data removed]",
      "text/plain": [
       "<Figure size 432x288 with 1 Axes>"
      ]
     },
     "metadata": {
      "needs_background": "light"
     },
     "output_type": "display_data"
    }
   ],
   "source": [
    "diff_df = calc_df[['he_float', 'he_calc']].copy()\n",
    "diff_df['he_diff'] = diff_df['he_float'] - diff_df['he_calc']\n",
    "diff_df.hist(column='he_diff')"
   ]
  },
  {
   "cell_type": "markdown",
   "metadata": {},
   "source": [
    "# 5. JOINT DATAFRAME AND POPULATION SEGMENTATION"
   ]
  },
  {
   "cell_type": "markdown",
   "metadata": {},
   "source": [
    "## 5.1. Joint Dataframe 'res_df'"
   ]
  },
  {
   "cell_type": "code",
   "execution_count": 99,
   "metadata": {},
   "outputs": [
    {
     "data": {
      "text/html": [
       "<div>\n",
       "<style scoped>\n",
       "    .dataframe tbody tr th:only-of-type {\n",
       "        vertical-align: middle;\n",
       "    }\n",
       "\n",
       "    .dataframe tbody tr th {\n",
       "        vertical-align: top;\n",
       "    }\n",
       "\n",
       "    .dataframe thead th {\n",
       "        text-align: right;\n",
       "    }\n",
       "</style>\n",
       "<table border=\"1\" class=\"dataframe\">\n",
       "  <thead>\n",
       "    <tr style=\"text-align: right;\">\n",
       "      <th></th>\n",
       "      <th>proc_tipo</th>\n",
       "      <th>desc_sief</th>\n",
       "      <th>volume_nr</th>\n",
       "      <th>prior</th>\n",
       "      <th>infracao_group</th>\n",
       "      <th>contrib_group</th>\n",
       "      <th>MCF</th>\n",
       "      <th>Jud</th>\n",
       "      <th>Arr</th>\n",
       "      <th>RFFP</th>\n",
       "      <th>CD</th>\n",
       "      <th>CE</th>\n",
       "      <th>DTE</th>\n",
       "      <th>MolGrv</th>\n",
       "      <th>Solid</th>\n",
       "      <th>Idoso</th>\n",
       "      <th>Lote</th>\n",
       "      <th>qtt_proc_vinc</th>\n",
       "      <th>proc_val</th>\n",
       "      <th>trib_group</th>\n",
       "      <th>he_tab</th>\n",
       "      <th>fisco_fls_categ</th>\n",
       "      <th>contestacao_fls_categ</th>\n",
       "      <th>total_fls_categ</th>\n",
       "      <th>he_calc_group</th>\n",
       "      <th>he_group</th>\n",
       "    </tr>\n",
       "  </thead>\n",
       "  <tbody>\n",
       "    <tr>\n",
       "      <th>count</th>\n",
       "      <td>50178</td>\n",
       "      <td>50178</td>\n",
       "      <td>50178</td>\n",
       "      <td>50178</td>\n",
       "      <td>50178</td>\n",
       "      <td>50178</td>\n",
       "      <td>50178</td>\n",
       "      <td>50178</td>\n",
       "      <td>50178</td>\n",
       "      <td>50178</td>\n",
       "      <td>50178</td>\n",
       "      <td>50178</td>\n",
       "      <td>50178</td>\n",
       "      <td>50178</td>\n",
       "      <td>50178</td>\n",
       "      <td>50178</td>\n",
       "      <td>50178</td>\n",
       "      <td>50178</td>\n",
       "      <td>50178</td>\n",
       "      <td>50178</td>\n",
       "      <td>50178</td>\n",
       "      <td>50178</td>\n",
       "      <td>50178</td>\n",
       "      <td>50178</td>\n",
       "      <td>50178</td>\n",
       "      <td>50178</td>\n",
       "    </tr>\n",
       "    <tr>\n",
       "      <th>unique</th>\n",
       "      <td>6</td>\n",
       "      <td>9</td>\n",
       "      <td>3</td>\n",
       "      <td>4</td>\n",
       "      <td>10</td>\n",
       "      <td>4</td>\n",
       "      <td>2</td>\n",
       "      <td>2</td>\n",
       "      <td>2</td>\n",
       "      <td>2</td>\n",
       "      <td>2</td>\n",
       "      <td>2</td>\n",
       "      <td>2</td>\n",
       "      <td>2</td>\n",
       "      <td>2</td>\n",
       "      <td>2</td>\n",
       "      <td>2</td>\n",
       "      <td>4</td>\n",
       "      <td>5</td>\n",
       "      <td>9</td>\n",
       "      <td>8</td>\n",
       "      <td>6</td>\n",
       "      <td>6</td>\n",
       "      <td>5</td>\n",
       "      <td>5</td>\n",
       "      <td>4</td>\n",
       "    </tr>\n",
       "    <tr>\n",
       "      <th>top</th>\n",
       "      <td>LANÇAMENTO</td>\n",
       "      <td>PER/DCOMP Eletrônico</td>\n",
       "      <td>1</td>\n",
       "      <td>SEM PRIORIDADE</td>\n",
       "      <td>OUTROS</td>\n",
       "      <td>PJ_Demais</td>\n",
       "      <td>N</td>\n",
       "      <td>N</td>\n",
       "      <td>N</td>\n",
       "      <td>N</td>\n",
       "      <td>N</td>\n",
       "      <td>N</td>\n",
       "      <td>N</td>\n",
       "      <td>N</td>\n",
       "      <td>N</td>\n",
       "      <td>N</td>\n",
       "      <td>N</td>\n",
       "      <td>0</td>\n",
       "      <td>Zero</td>\n",
       "      <td>MULDI</td>\n",
       "      <td>2_0</td>\n",
       "      <td>0</td>\n",
       "      <td>de 21 em diante</td>\n",
       "      <td>de 101 a 500</td>\n",
       "      <td>0</td>\n",
       "      <td>0</td>\n",
       "    </tr>\n",
       "    <tr>\n",
       "      <th>freq</th>\n",
       "      <td>29466</td>\n",
       "      <td>14732</td>\n",
       "      <td>50126</td>\n",
       "      <td>46574</td>\n",
       "      <td>34319</td>\n",
       "      <td>26290</td>\n",
       "      <td>50151</td>\n",
       "      <td>50030</td>\n",
       "      <td>49346</td>\n",
       "      <td>48749</td>\n",
       "      <td>42090</td>\n",
       "      <td>45478</td>\n",
       "      <td>31573</td>\n",
       "      <td>49431</td>\n",
       "      <td>49338</td>\n",
       "      <td>48294</td>\n",
       "      <td>47324</td>\n",
       "      <td>31742</td>\n",
       "      <td>17171</td>\n",
       "      <td>13084</td>\n",
       "      <td>21994</td>\n",
       "      <td>21856</td>\n",
       "      <td>17535</td>\n",
       "      <td>18259</td>\n",
       "      <td>34624</td>\n",
       "      <td>26564</td>\n",
       "    </tr>\n",
       "  </tbody>\n",
       "</table>\n",
       "</div>"
      ],
      "text/plain": [
       "         proc_tipo             desc_sief volume_nr           prior  \\\n",
       "count        50178                 50178     50178           50178   \n",
       "unique           6                     9         3               4   \n",
       "top     LANÇAMENTO  PER/DCOMP Eletrônico         1  SEM PRIORIDADE   \n",
       "freq         29466                 14732     50126           46574   \n",
       "\n",
       "       infracao_group contrib_group    MCF    Jud    Arr   RFFP     CD     CE  \\\n",
       "count           50178         50178  50178  50178  50178  50178  50178  50178   \n",
       "unique             10             4      2      2      2      2      2      2   \n",
       "top            OUTROS     PJ_Demais      N      N      N      N      N      N   \n",
       "freq            34319         26290  50151  50030  49346  48749  42090  45478   \n",
       "\n",
       "          DTE MolGrv  Solid  Idoso   Lote qtt_proc_vinc proc_val trib_group  \\\n",
       "count   50178  50178  50178  50178  50178         50178    50178      50178   \n",
       "unique      2      2      2      2      2             4        5          9   \n",
       "top         N      N      N      N      N             0     Zero      MULDI   \n",
       "freq    31573  49431  49338  48294  47324         31742    17171      13084   \n",
       "\n",
       "       he_tab fisco_fls_categ contestacao_fls_categ total_fls_categ  \\\n",
       "count   50178           50178                 50178           50178   \n",
       "unique      8               6                     6               5   \n",
       "top       2_0               0       de 21 em diante    de 101 a 500   \n",
       "freq    21994           21856                 17535           18259   \n",
       "\n",
       "       he_calc_group he_group  \n",
       "count          50178    50178  \n",
       "unique             5        4  \n",
       "top                0        0  \n",
       "freq           34624    26564  "
      ]
     },
     "execution_count": 99,
     "metadata": {},
     "output_type": "execute_result"
    }
   ],
   "source": [
    "# Concatenação dos dataframes com dados dos processos e palavras-chaves\n",
    "res_df = pd.concat([categ_df, infracao_df, tp_contr_df, bin_df, vinc_df, val_df, calc_df], axis=1, join=\"inner\")\n",
    "res_df.to_pickle(res_df_pkl_fpath)\n",
    "res_df.describe(include=object)"
   ]
  },
  {
   "cell_type": "code",
   "execution_count": 100,
   "metadata": {},
   "outputs": [
    {
     "data": {
      "text/html": [
       "<div>\n",
       "<style scoped>\n",
       "    .dataframe tbody tr th:only-of-type {\n",
       "        vertical-align: middle;\n",
       "    }\n",
       "\n",
       "    .dataframe tbody tr th {\n",
       "        vertical-align: top;\n",
       "    }\n",
       "\n",
       "    .dataframe thead th {\n",
       "        text-align: right;\n",
       "    }\n",
       "</style>\n",
       "<table border=\"1\" class=\"dataframe\">\n",
       "  <thead>\n",
       "    <tr style=\"text-align: right;\">\n",
       "      <th></th>\n",
       "      <th>he_float</th>\n",
       "      <th>he_calc</th>\n",
       "      <th>he_calc_fisco</th>\n",
       "      <th>he_calc_contestacao</th>\n",
       "      <th>he_calc_total</th>\n",
       "    </tr>\n",
       "  </thead>\n",
       "  <tbody>\n",
       "    <tr>\n",
       "      <th>count</th>\n",
       "      <td>50178.000000</td>\n",
       "      <td>50178.000000</td>\n",
       "      <td>50178.000000</td>\n",
       "      <td>50178.000000</td>\n",
       "      <td>50178.000000</td>\n",
       "    </tr>\n",
       "    <tr>\n",
       "      <th>mean</th>\n",
       "      <td>11.619730</td>\n",
       "      <td>6.720146</td>\n",
       "      <td>0.485239</td>\n",
       "      <td>4.029162</td>\n",
       "      <td>2.205746</td>\n",
       "    </tr>\n",
       "    <tr>\n",
       "      <th>std</th>\n",
       "      <td>11.337041</td>\n",
       "      <td>6.980400</td>\n",
       "      <td>1.745859</td>\n",
       "      <td>4.907082</td>\n",
       "      <td>2.569358</td>\n",
       "    </tr>\n",
       "    <tr>\n",
       "      <th>min</th>\n",
       "      <td>0.630000</td>\n",
       "      <td>0.000000</td>\n",
       "      <td>0.000000</td>\n",
       "      <td>0.000000</td>\n",
       "      <td>0.000000</td>\n",
       "    </tr>\n",
       "    <tr>\n",
       "      <th>25%</th>\n",
       "      <td>5.000000</td>\n",
       "      <td>1.800000</td>\n",
       "      <td>0.000000</td>\n",
       "      <td>0.500000</td>\n",
       "      <td>0.500000</td>\n",
       "    </tr>\n",
       "    <tr>\n",
       "      <th>50%</th>\n",
       "      <td>8.000000</td>\n",
       "      <td>4.300000</td>\n",
       "      <td>0.000000</td>\n",
       "      <td>2.200000</td>\n",
       "      <td>1.500000</td>\n",
       "    </tr>\n",
       "    <tr>\n",
       "      <th>75%</th>\n",
       "      <td>14.000000</td>\n",
       "      <td>9.600000</td>\n",
       "      <td>0.200000</td>\n",
       "      <td>6.100000</td>\n",
       "      <td>2.600000</td>\n",
       "    </tr>\n",
       "    <tr>\n",
       "      <th>max</th>\n",
       "      <td>147.000000</td>\n",
       "      <td>61.300000</td>\n",
       "      <td>13.300000</td>\n",
       "      <td>30.000000</td>\n",
       "      <td>18.000000</td>\n",
       "    </tr>\n",
       "  </tbody>\n",
       "</table>\n",
       "</div>"
      ],
      "text/plain": [
       "           he_float       he_calc  he_calc_fisco  he_calc_contestacao  \\\n",
       "count  50178.000000  50178.000000   50178.000000         50178.000000   \n",
       "mean      11.619730      6.720146       0.485239             4.029162   \n",
       "std       11.337041      6.980400       1.745859             4.907082   \n",
       "min        0.630000      0.000000       0.000000             0.000000   \n",
       "25%        5.000000      1.800000       0.000000             0.500000   \n",
       "50%        8.000000      4.300000       0.000000             2.200000   \n",
       "75%       14.000000      9.600000       0.200000             6.100000   \n",
       "max      147.000000     61.300000      13.300000            30.000000   \n",
       "\n",
       "       he_calc_total  \n",
       "count   50178.000000  \n",
       "mean        2.205746  \n",
       "std         2.569358  \n",
       "min         0.000000  \n",
       "25%         0.500000  \n",
       "50%         1.500000  \n",
       "75%         2.600000  \n",
       "max        18.000000  "
      ]
     },
     "execution_count": 100,
     "metadata": {},
     "output_type": "execute_result"
    }
   ],
   "source": [
    "res_df.describe(include=np.number)"
   ]
  },
  {
   "cell_type": "markdown",
   "metadata": {},
   "source": [
    "## 5.1.000 - LOAD 'res_df' FROM FILE"
   ]
  },
  {
   "cell_type": "code",
   "execution_count": 5,
   "metadata": {},
   "outputs": [],
   "source": [
    "res_df = pd.read_pickle(res_df_pkl_fpath)"
   ]
  },
  {
   "cell_type": "markdown",
   "metadata": {},
   "source": [
    "## 5.2. Segmentation in Deterministic Populations"
   ]
  },
  {
   "cell_type": "code",
   "execution_count": 7,
   "metadata": {},
   "outputs": [],
   "source": [
    "out_df = res_df[(res_df['he_float']>=80) & (res_df['proc_tipo']=='OUTROS TRIBUTÁRIO')]\n",
    "out_df.to_pickle(out_df_pkl_fpath)\n",
    "high_df = res_df[(res_df['he_float']>=80) & (res_df['proc_tipo']!='OUTROS TRIBUTÁRIO')]\n",
    "high_df.to_pickle(high_df_pkl_fpath)\n",
    "res_df = res_df.loc[list(set(res_df.index)-set(out_df.index)-set(high_df.index))]\n",
    "\n",
    "prev_df = res_df[res_df['proc_tipo']=='OUTROS PREVIDENCIÁRIO']\n",
    "prev_df.to_pickle(prev_df_pkl_fpath)\n",
    "admjud_df = res_df[res_df['proc_tipo']=='OUTROS ADMINISTRATIVO/JUDICIAL']\n",
    "admjud_df.to_pickle(admjud_df_pkl_fpath)\n",
    "res_df = res_df.loc[list(set(res_df.index)-set(prev_df.index)-set(admjud_df.index))]\n",
    "\n",
    "decl_df = res_df[res_df['desc_sief']=='Declaração']\n",
    "decl_df.to_pickle(decl_df_pkl_fpath)\n",
    "conf_df = res_df[res_df['desc_sief']=='Confissão Espontânea']\n",
    "conf_df.to_pickle(conf_df_pkl_fpath)\n",
    "res_df = res_df.loc[list(set(res_df.index)-set(decl_df.index)-set(conf_df.index))]\n",
    "\n",
    "vol_df = res_df[res_df['volume_nr']!='1']\n",
    "vol_df.to_pickle(vol_df_pkl_fpath)\n",
    "prior_df = res_df[res_df['prior'].isin(['MEDIA','ALTA'])] # include MAXIMA???\n",
    "prior_df.to_pickle(prior_df_pkl_fpath)\n",
    "mcf_df = res_df[res_df['MCF']=='S']\n",
    "mcf_df.to_pickle(mcf_df_pkl_fpath)\n",
    "jud_df = res_df[res_df['Jud']=='S']\n",
    "jud_df.to_pickle(jud_df_pkl_fpath)\n",
    "arr_df = res_df[res_df['Arr']=='S']\n",
    "arr_df.to_pickle(arr_df_pkl_fpath)\n",
    "rffp_df = res_df[res_df['RFFP']=='S']\n",
    "rffp_df.to_pickle(rffp_df_pkl_fpath)\n",
    "solid_df = res_df[res_df['Solid']=='S']\n",
    "solid_df.to_pickle(solid_df_pkl_fpath)\n",
    "idxs = set(res_df.index)-set(vol_df.index)-set(prior_df.index)-set(mcf_df.index)\\\n",
    "    -set(jud_df.index)-set(arr_df.index)-set(rffp_df.index)-set(solid_df.index)\n",
    "geral_df = res_df.loc[list(idxs)]\n",
    "geral_df.to_pickle(geral_df_pkl_fpath)"
   ]
  },
  {
   "cell_type": "code",
   "execution_count": 5,
   "metadata": {},
   "outputs": [],
   "source": [
    "import pandas as pd\n",
    "res_df = pd.read_pickle(res_df_pkl_fpath)\n",
    "res_df.to_csv(final_dir+'res_df.csv')"
   ]
  },
  {
   "cell_type": "markdown",
   "metadata": {},
   "source": [
    "## 5.3. Generating Masked Dataframe"
   ]
  },
  {
   "cell_type": "code",
   "execution_count": 51,
   "metadata": {},
   "outputs": [],
   "source": [
    "import string\n",
    "symbols = string.ascii_uppercase\n",
    "cols = ['proc_tipo', 'desc_sief', 'prior', 'infracao_group', 'contrib_group', 'Lote', 'qtt_proc_vinc', 'proc_val', 'trib_group']\n",
    "mask_dic = {}\n",
    "for i in range(len(cols)):\n",
    "    col = cols[i]\n",
    "    vals = list(geral_df[col].unique())\n",
    "    col_dic = {}\n",
    "    for j in range(len(vals)):\n",
    "        val = vals[j]\n",
    "        col_dic[val] = symbols[j]\n",
    "    mask_dic[col] = col_dic\n",
    "masked_df = geral_df.copy()\n",
    "masked_df.reset_index(inplace=True)\n",
    "masked_df.drop(columns=['proc_nr'], inplace=True)\n",
    "for k, v in mask_dic.items():\n",
    "    for vk, vv in v.items():\n",
    "        masked_df[k].replace(vk, vv, inplace=True)"
   ]
  },
  {
   "cell_type": "markdown",
   "metadata": {},
   "source": [
    "# 6. DATA TRANSFORMATION"
   ]
  },
  {
   "cell_type": "markdown",
   "metadata": {},
   "source": [
    "## Converting string data to numerical and dummy categories"
   ]
  },
  {
   "cell_type": "code",
   "execution_count": 57,
   "metadata": {},
   "outputs": [],
   "source": [
    "ml_features = ['proc_tipo', 'desc_sief', 'prior', 'CD', 'CE', 'DTE', 'MolGrv', 'Idoso', 'Lote', 'qtt_proc_vinc', 'proc_val',\n",
    "    'trib_group', 'infracao_group', 'contrib_group', 'fisco_fls_categ', 'contestacao_fls_categ', 'total_fls_categ', 'he_calc_group']\n",
    "ml_df = masked_df.copy()\n",
    "X_cat_df = ml_df[ml_features].copy()\n",
    "X_cat_code_df = pd.DataFrame(index=X_cat_df.index)\n",
    "for col in X_cat_df.columns:\n",
    "    X_cat_code_df[col] = X_cat_df[col].astype('category').cat.codes.astype('category')\n",
    "X_cat_code = X_cat_code_df.to_numpy()\n",
    "enc_X_cat = OneHotEncoder(categories='auto')\n",
    "enc_X_cat.fit(X_cat_code)\n",
    "X_cat_dummy = enc_X_cat.transform(X_cat_code).toarray()\n",
    "\n",
    "y_num_df = ml_df['he_float']\n",
    "y_num = y_num_df.to_numpy().reshape(-1, 1)\n",
    "y_cat_df = ml_df['he_group']\n",
    "y_cat_code_df = ml_df['he_group'].astype('category').cat.codes.astype('category')\n",
    "y_cat_code = y_cat_code_df.to_numpy().reshape(-1, 1)\n",
    "enc_y_cat = OneHotEncoder(categories='auto')\n",
    "enc_y_cat.fit(y_cat_code)\n",
    "y_cat_dummy = enc_y_cat.transform(y_cat_code).toarray()\n",
    "\n",
    "ml_dics = {\n",
    "    'X_cat_code':X_cat_code,\n",
    "    'X_cat_dummy':X_cat_dummy,\n",
    "    'y_num':y_num,\n",
    "    'y_cat_code':y_cat_code,\n",
    "    'y_cat_dummy':y_cat_dummy,\n",
    "}\n",
    "with open(ml_dics_pkl_fpath, 'wb') as f:\n",
    "    pk.dump(ml_dics, f)"
   ]
  },
  {
   "cell_type": "markdown",
   "metadata": {},
   "source": [
    "# 7. MACHINE LEARNING"
   ]
  },
  {
   "cell_type": "markdown",
   "metadata": {},
   "source": [
    "### 7.0000 - READ PICKLE 'ml_dics'"
   ]
  },
  {
   "cell_type": "code",
   "execution_count": 56,
   "metadata": {},
   "outputs": [],
   "source": [
    "# with open(ml_dics_pkl_fpath, 'rb') as f:\n",
    "#     ml_dics = pk.load(f)\n",
    "# X_cat_code = ml_dics['X_cat_code']\n",
    "# X_cat_dummy = ml_dics['X_cat_dummy']\n",
    "# y_num = ml_dics['y_num']\n",
    "# y_cat_code = ml_dics['y_cat_code']\n",
    "# y_cat_dummy = ml_dics['y_cat_dummy']"
   ]
  },
  {
   "cell_type": "markdown",
   "metadata": {},
   "source": [
    "## 7.1. Dummy Random Classifier (for accuracy level reference)"
   ]
  },
  {
   "cell_type": "code",
   "execution_count": 58,
   "metadata": {},
   "outputs": [
    {
     "name": "stdout",
     "output_type": "stream",
     "text": [
      "most_frequent  =  56.0 %\n",
      "prior  =  56.0 %\n",
      "stratified  =  41.0 %\n",
      "uniform  =  25.0 %\n"
     ]
    }
   ],
   "source": [
    "from sklearn.dummy import DummyClassifier\n",
    "X, y = X_cat_code, y_cat_code\n",
    "for ctype in ['most_frequent', 'prior', 'stratified', 'uniform']:\n",
    "    dummy_clf = DummyClassifier(strategy=ctype)\n",
    "    dummy_clf.fit(X, y)\n",
    "    # dummy_clf.predict(np.array(X))\n",
    "    acc = dummy_clf.score(X, y)\n",
    "    print(ctype, ' = ', round(100*acc, 0), '%')"
   ]
  },
  {
   "cell_type": "markdown",
   "metadata": {},
   "source": [
    "## 7.2. Linear Regression"
   ]
  },
  {
   "cell_type": "markdown",
   "metadata": {},
   "source": [
    "### 7.2.1. Linear Regression with Numeric Target"
   ]
  },
  {
   "cell_type": "code",
   "execution_count": 59,
   "metadata": {},
   "outputs": [
    {
     "name": "stdout",
     "output_type": "stream",
     "text": [
      "*** Acuracia Treinamento = 0.73  - Acuracia Teste = 0.73\n"
     ]
    }
   ],
   "source": [
    "X, y = X_cat_dummy, y_num\n",
    "X_train, X_test, y_train, y_test = train_test_split(X, y, test_size=0.1, random_state=0)\n",
    "lnr = LinearRegression()\n",
    "lnr.fit(X_train, y_train)\n",
    "y_prev = lnr.predict(X_test)\n",
    "print('*** Acuracia Treinamento = {:.2f}'.format(lnr.score(X_train, y_train)), ' - Acuracia Teste = {:.2f}'.format(lnr.score(X_test, y_test)))"
   ]
  },
  {
   "cell_type": "markdown",
   "metadata": {},
   "source": [
    "### 7.2.2. Linear Regression with Categorical Target"
   ]
  },
  {
   "cell_type": "code",
   "execution_count": 60,
   "metadata": {},
   "outputs": [
    {
     "name": "stdout",
     "output_type": "stream",
     "text": [
      "*** Acuracia Treinamento = 0.69  - Acuracia Teste = 0.71\n"
     ]
    }
   ],
   "source": [
    "X, y = X_cat_dummy, y_cat_code\n",
    "X_train, X_test, y_train, y_test = train_test_split(X, y, test_size=0.1, random_state=0)\n",
    "lnr = LinearRegression()\n",
    "lnr.fit(X_train, y_train)\n",
    "y_prev = lnr.predict(X_test)\n",
    "print('*** Acuracia Treinamento = {:.2f}'.format(lnr.score(X_train, y_train)), ' - Acuracia Teste = {:.2f}'.format(lnr.score(X_test, y_test)))"
   ]
  },
  {
   "cell_type": "markdown",
   "metadata": {},
   "source": [
    "### 7.2.3. Linear Regression with Dummy Target"
   ]
  },
  {
   "cell_type": "code",
   "execution_count": 61,
   "metadata": {},
   "outputs": [
    {
     "name": "stdout",
     "output_type": "stream",
     "text": [
      "*** Etapa 0: Acuracia Treinamento = 0.41 - Acuracia Teste = 0.41\n",
      "*** Etapa 1: Acuracia Treinamento = 0.41 - Acuracia Teste = 0.41\n",
      "*** Etapa 2: Acuracia Treinamento = 0.41 - Acuracia Teste = 0.41\n",
      "*** Etapa 3: Acuracia Treinamento = 0.41 - Acuracia Teste = 0.41\n"
     ]
    }
   ],
   "source": [
    "X, y = X_cat_dummy, y_cat_dummy\n",
    "for i in range(y.shape[1]):\n",
    "    y_vect = y[:,i].T\n",
    "    X_train, X_test, y_train, y_test = train_test_split(X, y, test_size=0.1, random_state=0)\n",
    "    lnr = LinearRegression()\n",
    "    lnr.fit(X_train, y_train)\n",
    "    y_prev = lnr.predict(X_test)\n",
    "    print('*** Etapa {0:d}: Acuracia Treinamento = {1:.2f} - Acuracia Teste = {2:.2f}'.format(i, lnr.score(X_train, y_train), lnr.score(X_test, y_test)))"
   ]
  },
  {
   "cell_type": "markdown",
   "metadata": {},
   "source": [
    "## 7.3. Logistic Regression"
   ]
  },
  {
   "cell_type": "markdown",
   "metadata": {},
   "source": [
    "### 7.3.1. Logistic Regression for each Dummy Target"
   ]
  },
  {
   "cell_type": "code",
   "execution_count": 62,
   "metadata": {},
   "outputs": [
    {
     "name": "stdout",
     "output_type": "stream",
     "text": [
      "*** Etapa 0: Acuracia Treinamento = 0.81 - Acuracia Teste = 0.82\n",
      "*** Etapa 1: Acuracia Treinamento = 0.72 - Acuracia Teste = 0.73\n",
      "*** Etapa 2: Acuracia Treinamento = 0.77 - Acuracia Teste = 0.78\n",
      "*** Etapa 3: Acuracia Treinamento = 0.88 - Acuracia Teste = 0.87\n"
     ]
    }
   ],
   "source": [
    "from sklearn.linear_model import LogisticRegression\n",
    "X, y = X_cat_code, y_cat_dummy\n",
    "y_pred_mtx = []\n",
    "for j in range(y.shape[1]):\n",
    "    y_vect = y[:,j].T\n",
    "    X_train, X_test, y_train, y_test = train_test_split(X, y_vect, test_size=0.1, random_state=0)\n",
    "    lgr = LogisticRegression(class_weight='balanced', multi_class='ovr', max_iter=1000, solver='lbfgs')\n",
    "    lgr.fit(X_train, y_train)\n",
    "    y_pred = lgr.predict(X_test)\n",
    "    y_pred_mtx.append(lgr.predict(X))\n",
    "    print('*** Etapa {0:d}: Acuracia Treinamento = {1:.2f} - Acuracia Teste = {2:.2f}'.format(j, lgr.score(X_train, y_train), lgr.score(X_test, y_test)))"
   ]
  },
  {
   "cell_type": "markdown",
   "metadata": {},
   "source": [
    "### 7.3.2. Logistic Regression Sequence for Decrescent Dummy Target"
   ]
  },
  {
   "cell_type": "code",
   "execution_count": 63,
   "metadata": {},
   "outputs": [
    {
     "name": "stdout",
     "output_type": "stream",
     "text": [
      "*** Etapa 3 - 4877 amostras: Acuracia Treinamento = 0.92 - Acuracia Teste = 0.92\n",
      "*** Etapa 2 - 11380 amostras: Acuracia Treinamento = 0.79 - Acuracia Teste = 0.79\n",
      "*** Etapa 1 - 9483 amostras: Acuracia Treinamento = 0.84 - Acuracia Teste = 0.83\n",
      "*** Etapa 0 - 16383 amostras: Acuracia Treinamento = 0.78 - Acuracia Teste = 0.81\n"
     ]
    }
   ],
   "source": [
    "X, y = X_cat_dummy, y_cat_dummy\n",
    "y_pred_mtx = np.array([[0 for j in range(y.shape[1]+1)] for i in range(y.shape[0])])\n",
    "X_round, y_round, = X, y\n",
    "for col_id in range(y_round.shape[1]-1, -1, -1):\n",
    "    y_vect = y_round[:,col_id].T\n",
    "    X_train, X_test, y_train, y_test = train_test_split(X_round, y_vect, test_size=0.1, random_state=0)\n",
    "    lgr = LogisticRegression(class_weight='balanced', multi_class='ovr', max_iter=1000, solver='lbfgs')\n",
    "    lgr.fit(X_train, y_train)\n",
    "    acc_train = lgr.score(X_train, y_train)\n",
    "    acc_test = lgr.score(X_test, y_test)\n",
    "    y_prev = lgr.predict(X_round)\n",
    "    y_id_list = [j for j in range(len(y_prev)) if y_prev[j]==0]\n",
    "    X_round, y_round = X_round[y_id_list], y_round[y_id_list]\n",
    "    y_pred_mtx[:,col_id] = lgr.predict(X)\n",
    "    print('*** Etapa {0:d} - {1:d} amostras: Acuracia Treinamento = {2:.2f} - Acuracia Teste = {3:.2f}'.format(col_id, int(y_prev.sum()), acc_train, acc_test))"
   ]
  },
  {
   "cell_type": "markdown",
   "metadata": {},
   "source": [
    "### 7.3.3. Logistic Regression Multiclass"
   ]
  },
  {
   "cell_type": "code",
   "execution_count": 64,
   "metadata": {},
   "outputs": [
    {
     "name": "stdout",
     "output_type": "stream",
     "text": [
      "*** Acuracia Treinamento = 0.66 - Acuracia Teste = 0.67\n"
     ]
    }
   ],
   "source": [
    "X, y = X_cat_code, y_cat_code.T[0]\n",
    "X_train, X_test, y_train, y_test = train_test_split(X, y, test_size=0.1, random_state=0)\n",
    "lgr = LogisticRegression(multi_class='multinomial', class_weight='balanced', max_iter=10000, solver='lbfgs', random_state=0)\n",
    "lgr.fit(X_train, y_train)\n",
    "y_prev = lgr.predict(X_test)\n",
    "print('*** Acuracia Treinamento = {0:.2f} - Acuracia Teste = {1:.2f}'.format(lgr.score(X_train, y_train), lgr.score(X_test, y_test)))"
   ]
  },
  {
   "cell_type": "markdown",
   "metadata": {},
   "source": [
    "## 7.4. Naïve Bayes"
   ]
  },
  {
   "cell_type": "markdown",
   "metadata": {},
   "source": [
    "### 7.4.1. Multinomial Naïve Bayes"
   ]
  },
  {
   "cell_type": "code",
   "execution_count": 65,
   "metadata": {},
   "outputs": [
    {
     "name": "stdout",
     "output_type": "stream",
     "text": [
      "*** Acuracia Treinamento = 0.75 - Acuracia Teste = 0.76\n"
     ]
    }
   ],
   "source": [
    "X, y = X_cat_dummy, y_cat_code.T[0]\n",
    "X_train, X_test, y_train, y_test = train_test_split(X, y, test_size=0.1, random_state=0)\n",
    "mnb = MultinomialNB()\n",
    "mnb.fit(X_train, y_train)\n",
    "y_prev = mnb.predict(X_test)\n",
    "print('*** Acuracia Treinamento = {0:.2f} - Acuracia Teste = {1:.2f}'.format(mnb.score(X_train, y_train), mnb.score(X_test, y_test)))"
   ]
  },
  {
   "cell_type": "markdown",
   "metadata": {},
   "source": [
    "### 7.4.2. Complement Naïve Bayes"
   ]
  },
  {
   "cell_type": "code",
   "execution_count": 66,
   "metadata": {},
   "outputs": [
    {
     "name": "stdout",
     "output_type": "stream",
     "text": [
      "*** Acuracia Treinamento = 0.73 - Acuracia Teste = 0.75\n"
     ]
    }
   ],
   "source": [
    "cnb = ComplementNB()\n",
    "cnb.fit(X_train, y_train)\n",
    "y_prev = cnb.predict(X_test)\n",
    "print('*** Acuracia Treinamento = {0:.2f} - Acuracia Teste = {1:.2f}'.format(cnb.score(X_train, y_train), cnb.score(X_test, y_test)))"
   ]
  },
  {
   "cell_type": "markdown",
   "metadata": {},
   "source": [
    "## 7.5. SGD Classifier (SVM)"
   ]
  },
  {
   "cell_type": "code",
   "execution_count": 67,
   "metadata": {},
   "outputs": [
    {
     "name": "stdout",
     "output_type": "stream",
     "text": [
      "*** Acuracia Treinamento = 0.77 - Acuracia Teste = 0.78\n"
     ]
    }
   ],
   "source": [
    "X, y = X_cat_dummy, y_cat_code.T[0]\n",
    "X_train, X_test, y_train, y_test = train_test_split(X, y, test_size=0.1, random_state=0)\n",
    "sgd = SGDClassifier(max_iter=1000, tol=1e-3)\n",
    "sgd = make_pipeline(StandardScaler(), SGDClassifier(max_iter=1000, tol=1e-3))\n",
    "sgd.fit(X_train, y_train)\n",
    "y_prev = sgd.predict(X_test)\n",
    "print('*** Acuracia Treinamento = {0:.2f} - Acuracia Teste = {1:.2f}'.format(sgd.score(X_train, y_train), sgd.score(X_test, y_test)))"
   ]
  },
  {
   "cell_type": "markdown",
   "metadata": {},
   "source": [
    "## 7.6. Neural Network Multi-layer Perceptron Classifier"
   ]
  },
  {
   "cell_type": "markdown",
   "metadata": {},
   "source": [
    "## 7.6.1. Neural Network Multi-layer Perceptron Classifier with Unbalanced Sample (original)"
   ]
  },
  {
   "cell_type": "code",
   "execution_count": 68,
   "metadata": {},
   "outputs": [
    {
     "name": "stdout",
     "output_type": "stream",
     "text": [
      "Acuracia Treinamento = 0.88  *** Acuracia Teste = 0.82\n"
     ]
    }
   ],
   "source": [
    "X, y = X_cat_dummy, y_cat_code.T[0]\n",
    "X_train, X_test, y_train, y_test = train_test_split(X, y, stratify=y, random_state=1)\n",
    "mlp = MLPClassifier(random_state=1, max_iter=500).fit(X_train, y_train)\n",
    "mlp.predict_proba(X_test[:1])\n",
    "print('Acuracia Treinamento = {:.2f}'.format(mlp.score(X_train, y_train)),' *** Acuracia Teste = {:.2f}'.format(mlp.score(X_test, y_test)))"
   ]
  },
  {
   "cell_type": "markdown",
   "metadata": {},
   "source": [
    "## 7.6.2. Neural Network Multi-layer Perceptron Classifier with Balanced Sample"
   ]
  },
  {
   "cell_type": "code",
   "execution_count": 18,
   "metadata": {},
   "outputs": [
    {
     "name": "stdout",
     "output_type": "stream",
     "text": [
      "Acuracia Treinamento = 0.87  *** Acuracia Teste = 0.85\n"
     ]
    }
   ],
   "source": [
    "X, y = X_cat_dummy, y_cat_code.T[0]\n",
    "ros = RandomOverSampler(random_state=0)\n",
    "X_balanced, y_balanced = ros.fit_resample(X, y)\n",
    "X_train, X_test, y_train, y_test = train_test_split(X_balanced, y_balanced, stratify=y_balanced, random_state=1)\n",
    "mlp = MLPClassifier(random_state=1, max_iter=500).fit(X_train, y_train)\n",
    "mlp.predict_proba(X_test[:1])\n",
    "print('Acuracia Treinamento = {:.2f}'.format(mlp.score(X_train, y_train)),' *** Acuracia Teste = {:.2f}'.format(mlp.score(X_test, y_test)))"
   ]
  },
  {
   "cell_type": "code",
   "execution_count": 69,
   "metadata": {},
   "outputs": [
    {
     "name": "stdout",
     "output_type": "stream",
     "text": [
      "*** Etapa 0 - 26273 amostras: Acuracia = 0.93\n",
      "*** Etapa 1 - 13324 amostras: Acuracia = 0.84\n",
      "*** Etapa 2 - 6093 amostras: Acuracia = 0.64\n",
      "*** Etapa 3 - 1425 amostras: Acuracia = 0.75\n"
     ]
    }
   ],
   "source": [
    "idxs = [[i for i in range(len(y)) if y[i]==j] for j in range(4)]\n",
    "for i in range(4):\n",
    "    idxi = idxs[i]\n",
    "    Xi = X[idxi,:]\n",
    "    yi = y[idxi]\n",
    "    print('*** Etapa {0:d} - {1:d} amostras: Acuracia = {2:.2f}'.format(i, len(idxs[i]), mlp.score(Xi, yi)))"
   ]
  },
  {
   "cell_type": "markdown",
   "metadata": {},
   "source": [
    "## 7.7. Random Forest Classifier"
   ]
  },
  {
   "cell_type": "code",
   "execution_count": 70,
   "metadata": {},
   "outputs": [
    {
     "name": "stdout",
     "output_type": "stream",
     "text": [
      "*** Acuracia Treinamento = 0.91 - Acuracia Teste = 0.84\n"
     ]
    }
   ],
   "source": [
    "X, y = X_cat_dummy, y_cat_code.T[0]\n",
    "X_train, X_test, y_train, y_test = train_test_split(X, y, test_size=0.1, random_state=0)\n",
    "rdf = RandomForestClassifier(n_estimators = 100)\n",
    "rdf.fit(X_train, y_train)\n",
    "y_prev = rdf.predict(X_test)\n",
    "print('*** Acuracia Treinamento = {0:.2f} - Acuracia Teste = {1:.2f}'.format(rdf.score(X_train, y_train), rdf.score(X_test, y_test)))"
   ]
  },
  {
   "cell_type": "code",
   "execution_count": 72,
   "metadata": {},
   "outputs": [
    {
     "name": "stdout",
     "output_type": "stream",
     "text": [
      "*** Acuracia Treinamento = 0.91 - Acuracia Teste = 0.88\n",
      "*** Acuracia = 0.89\n"
     ]
    }
   ],
   "source": [
    "X, y = X_cat_dummy, y_cat_code.T[0]\n",
    "ros = RandomOverSampler(random_state=0)\n",
    "X_balanced, y_balanced = ros.fit_resample(X, y)\n",
    "X_train, X_test, y_train, y_test = train_test_split(X_balanced, y_balanced, test_size=0.1, random_state=0)\n",
    "rdf = RandomForestClassifier(n_estimators = 100)\n",
    "rdf.fit(X_train, y_train)\n",
    "y_prev = rdf.predict(X_test)\n",
    "print('*** Acuracia Treinamento = {0:.2f} - Acuracia Teste = {1:.2f}'.format(rdf.score(X_train, y_train), rdf.score(X_test, y_test)))\n",
    "print('*** Acuracia = {0:.2f}'.format(rdf.score(X, y)))"
   ]
  },
  {
   "cell_type": "markdown",
   "metadata": {},
   "source": [
    "## 7.8. AUTOML Classifier"
   ]
  },
  {
   "cell_type": "markdown",
   "metadata": {},
   "source": [
    "### 7.8.1. 300s Time Window"
   ]
  },
  {
   "cell_type": "code",
   "execution_count": 10,
   "metadata": {},
   "outputs": [
    {
     "name": "stderr",
     "output_type": "stream",
     "text": [
      "/usr/local/lib/python3.8/dist-packages/autosklearn/metalearning/metalearning/meta_base.py:68: FutureWarning: The frame.append method is deprecated and will be removed from pandas in a future version. Use pandas.concat instead.\n",
      "  self.metafeatures = self.metafeatures.append(metafeatures)\n",
      "/usr/local/lib/python3.8/dist-packages/autosklearn/metalearning/metalearning/meta_base.py:72: FutureWarning: The frame.append method is deprecated and will be removed from pandas in a future version. Use pandas.concat instead.\n",
      "  self.algorithm_runs[metric].append(runs)\n"
     ]
    },
    {
     "data": {
      "text/plain": [
       "AutoSklearnClassifier(per_run_time_limit=60, time_left_for_this_task=300,\n",
       "                      tmp_folder='/tmp/autosklearn_classification_test002_tmp')"
      ]
     },
     "execution_count": 10,
     "metadata": {},
     "output_type": "execute_result"
    }
   ],
   "source": [
    "X, y = X_cat_dummy, y_cat_code\n",
    "X_train, X_test, y_train, y_test = sklearn.model_selection.train_test_split(X, y, random_state=1)\n",
    "\n",
    "automl_dir = '/tmp/autosklearn_classification_test002_tmp'\n",
    "if os.path.isdir(automl_dir):\n",
    "    shutil.rmtree(automl_dir)\n",
    "automl = autosklearn.classification.AutoSklearnClassifier(\n",
    "    time_left_for_this_task=300,\n",
    "    per_run_time_limit=60,\n",
    "    tmp_folder=automl_dir,\n",
    ")\n",
    "automl.fit(X_train, y_train, dataset_name='he_prediction')"
   ]
  },
  {
   "cell_type": "code",
   "execution_count": 11,
   "metadata": {},
   "outputs": [
    {
     "name": "stdout",
     "output_type": "stream",
     "text": [
      "          rank  ensemble_weight               type      cost   duration\n",
      "model_id                                                               \n",
      "3            1             0.48  gradient_boosting  0.182489  50.019757\n",
      "6            2             0.28  gradient_boosting  0.190807  46.215749\n",
      "5            3             0.16  gradient_boosting  0.199554  18.819011\n",
      "4            4             0.08      random_forest  0.210188  35.059789\n",
      "{   3: {   'balancing': Balancing(random_state=1),\n",
      "           'classifier': <autosklearn.pipeline.components.classification.ClassifierChoice object at 0x7fd00d58fc70>,\n",
      "           'cost': 0.1824886373381357,\n",
      "           'data_preprocessor': <autosklearn.pipeline.components.data_preprocessing.DataPreprocessorChoice object at 0x7fd00d58f1c0>,\n",
      "           'ensemble_weight': 0.48,\n",
      "           'feature_preprocessor': <autosklearn.pipeline.components.feature_preprocessing.FeaturePreprocessorChoice object at 0x7fd00d58f4f0>,\n",
      "           'model_id': 3,\n",
      "           'rank': 1,\n",
      "           'sklearn_classifier': HistGradientBoostingClassifier(early_stopping=True,\n",
      "                               l2_regularization=1.3153561911035717e-10,\n",
      "                               learning_rate=0.025345400213312417, max_iter=512,\n",
      "                               max_leaf_nodes=16, min_samples_leaf=27,\n",
      "                               n_iter_no_change=5, random_state=1,\n",
      "                               validation_fraction=0.2361478213622299,\n",
      "                               warm_start=True)},\n",
      "    4: {   'balancing': Balancing(random_state=1),\n",
      "           'classifier': <autosklearn.pipeline.components.classification.ClassifierChoice object at 0x7fd00d127790>,\n",
      "           'cost': 0.2101878055055313,\n",
      "           'data_preprocessor': <autosklearn.pipeline.components.data_preprocessing.DataPreprocessorChoice object at 0x7fd00d4bed00>,\n",
      "           'ensemble_weight': 0.08,\n",
      "           'feature_preprocessor': <autosklearn.pipeline.components.feature_preprocessing.FeaturePreprocessorChoice object at 0x7fd00d127100>,\n",
      "           'model_id': 4,\n",
      "           'rank': 4,\n",
      "           'sklearn_classifier': RandomForestClassifier(bootstrap=False, criterion='entropy', max_features=6,\n",
      "                       min_samples_leaf=2, n_estimators=512, n_jobs=1,\n",
      "                       random_state=1, warm_start=True)},\n",
      "    5: {   'balancing': Balancing(random_state=1, strategy='weighting'),\n",
      "           'classifier': <autosklearn.pipeline.components.classification.ClassifierChoice object at 0x7fd00d1e0850>,\n",
      "           'cost': 0.19955406911928653,\n",
      "           'data_preprocessor': <autosklearn.pipeline.components.data_preprocessing.DataPreprocessorChoice object at 0x7fd00b4e8970>,\n",
      "           'ensemble_weight': 0.16,\n",
      "           'feature_preprocessor': <autosklearn.pipeline.components.feature_preprocessing.FeaturePreprocessorChoice object at 0x7fd00d1e0790>,\n",
      "           'model_id': 5,\n",
      "           'rank': 3,\n",
      "           'sklearn_classifier': HistGradientBoostingClassifier(early_stopping=True,\n",
      "                               l2_regularization=5.027708640006448e-08,\n",
      "                               learning_rate=0.09750328007832798, max_iter=32,\n",
      "                               max_leaf_nodes=1234, min_samples_leaf=25,\n",
      "                               n_iter_no_change=1, random_state=1,\n",
      "                               validation_fraction=0.08300813783286698,\n",
      "                               warm_start=True)},\n",
      "    6: {   'balancing': Balancing(random_state=1),\n",
      "           'classifier': <autosklearn.pipeline.components.classification.ClassifierChoice object at 0x7fd00d4c5df0>,\n",
      "           'cost': 0.19080696338221426,\n",
      "           'data_preprocessor': <autosklearn.pipeline.components.data_preprocessing.DataPreprocessorChoice object at 0x7fd00b44b8b0>,\n",
      "           'ensemble_weight': 0.28,\n",
      "           'feature_preprocessor': <autosklearn.pipeline.components.feature_preprocessing.FeaturePreprocessorChoice object at 0x7fd00d4c5d00>,\n",
      "           'model_id': 6,\n",
      "           'rank': 2,\n",
      "           'sklearn_classifier': HistGradientBoostingClassifier(early_stopping=True,\n",
      "                               l2_regularization=9.674948183980905e-09,\n",
      "                               learning_rate=0.014247987845444413, max_iter=512,\n",
      "                               max_leaf_nodes=55, min_samples_leaf=164,\n",
      "                               n_iter_no_change=1, random_state=1,\n",
      "                               validation_fraction=0.11770489601182355,\n",
      "                               warm_start=True)}}\n",
      "Accuracy score: 0.8265557347822395\n"
     ]
    }
   ],
   "source": [
    "print(automl.leaderboard())\n",
    "pprint(automl.show_models(), indent=4)\n",
    "predictions = automl.predict(X_test)\n",
    "print(\"Accuracy score:\", sklearn.metrics.accuracy_score(y_test, predictions))"
   ]
  },
  {
   "cell_type": "markdown",
   "metadata": {},
   "source": [
    "### 7.8.2. 1000s Time Window"
   ]
  },
  {
   "cell_type": "code",
   "execution_count": null,
   "metadata": {},
   "outputs": [
    {
     "name": "stderr",
     "output_type": "stream",
     "text": [
      "/usr/local/lib/python3.8/dist-packages/autosklearn/metalearning/metalearning/meta_base.py:68: FutureWarning: The frame.append method is deprecated and will be removed from pandas in a future version. Use pandas.concat instead.\n",
      "  self.metafeatures = self.metafeatures.append(metafeatures)\n",
      "/usr/local/lib/python3.8/dist-packages/autosklearn/metalearning/metalearning/meta_base.py:72: FutureWarning: The frame.append method is deprecated and will be removed from pandas in a future version. Use pandas.concat instead.\n",
      "  self.algorithm_runs[metric].append(runs)\n"
     ]
    },
    {
     "ename": "Error",
     "evalue": "Canceled future for execute_request message before replies were done",
     "output_type": "error",
     "traceback": [
      "Error: Canceled future for execute_request message before replies were done",
      "at t.KernelShellFutureHandler.dispose (/home/darwin/.vscode-server/extensions/ms-toolsai.jupyter-2022.3.1000901801/out/extension.js:2:1204175)",
      "at /home/darwin/.vscode-server/extensions/ms-toolsai.jupyter-2022.3.1000901801/out/extension.js:2:1223227",
      "at Map.forEach (<anonymous>)",
      "at v._clearKernelState (/home/darwin/.vscode-server/extensions/ms-toolsai.jupyter-2022.3.1000901801/out/extension.js:2:1223212)",
      "at v.dispose (/home/darwin/.vscode-server/extensions/ms-toolsai.jupyter-2022.3.1000901801/out/extension.js:2:1216694)",
      "at /home/darwin/.vscode-server/extensions/ms-toolsai.jupyter-2022.3.1000901801/out/extension.js:2:533674",
      "at t.swallowExceptions (/home/darwin/.vscode-server/extensions/ms-toolsai.jupyter-2022.3.1000901801/out/extension.js:2:913059)",
      "at dispose (/home/darwin/.vscode-server/extensions/ms-toolsai.jupyter-2022.3.1000901801/out/extension.js:2:533652)",
      "at t.RawSession.dispose (/home/darwin/.vscode-server/extensions/ms-toolsai.jupyter-2022.3.1000901801/out/extension.js:2:537330)",
      "at processTicksAndRejections (node:internal/process/task_queues:96:5)"
     ]
    }
   ],
   "source": [
    "X, y = X_cat_dummy, y_cat_code\n",
    "X_train, X_test, y_train, y_test = sklearn.model_selection.train_test_split(X, y, random_state=1)\n",
    "\n",
    "automl_dir = '/tmp/autosklearn_classification_test002_tmp'\n",
    "if os.path.isdir(automl_dir):\n",
    "    shutil.rmtree(automl_dir)\n",
    "automl = autosklearn.classification.AutoSklearnClassifier(\n",
    "    time_left_for_this_task=1000,\n",
    "    per_run_time_limit=60,\n",
    "    tmp_folder=automl_dir,\n",
    ")\n",
    "automl.fit(X_train, y_train, dataset_name='he_prediction')"
   ]
  },
  {
   "cell_type": "code",
   "execution_count": null,
   "metadata": {},
   "outputs": [
    {
     "name": "stdout",
     "output_type": "stream",
     "text": [
      "          rank  ensemble_weight           type      cost   duration\n",
      "model_id                                                           \n",
      "2            1              1.0  random_forest  0.176571  29.491303\n",
      "{   2: {   'balancing': Balancing(random_state=1),\n",
      "           'classifier': <autosklearn.pipeline.components.classification.ClassifierChoice object at 0x7fd00b63f250>,\n",
      "           'cost': 0.17657147757482206,\n",
      "           'data_preprocessor': <autosklearn.pipeline.components.data_preprocessing.DataPreprocessorChoice object at 0x7fd00ba1e970>,\n",
      "           'ensemble_weight': 1.0,\n",
      "           'feature_preprocessor': <autosklearn.pipeline.components.feature_preprocessing.FeaturePreprocessorChoice object at 0x7fd00b63f100>,\n",
      "           'model_id': 2,\n",
      "           'rank': 1,\n",
      "           'sklearn_classifier': RandomForestClassifier(max_features=8, n_estimators=512, n_jobs=1,\n",
      "                       random_state=1, warm_start=True)}}\n",
      "Accuracy score: 0.8262161473809322\n"
     ]
    }
   ],
   "source": [
    "print(automl.leaderboard())\n",
    "pprint(automl.show_models(), indent=4)\n",
    "predictions = automl.predict(X_test)\n",
    "print(\"Accuracy score:\", sklearn.metrics.accuracy_score(y_test, predictions))"
   ]
  }
 ],
 "metadata": {
  "interpreter": {
   "hash": "58d0eec4bd53c07cd2debdc06dca8bd8db7ed9b6f252c86412fbeaad6082188b"
  },
  "kernelspec": {
   "display_name": "Python 3",
   "language": "python",
   "name": "python3"
  },
  "language_info": {
   "codemirror_mode": {
    "name": "ipython",
    "version": 3
   },
   "file_extension": ".py",
   "mimetype": "text/x-python",
   "name": "python",
   "nbconvert_exporter": "python",
   "pygments_lexer": "ipython3",
   "version": "3.8.10"
  },
  "orig_nbformat": 4
 },
 "nbformat": 4,
 "nbformat_minor": 2
}
